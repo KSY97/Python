{
 "cells": [
  {
   "cell_type": "code",
   "execution_count": 1,
   "id": "eb36ca38",
   "metadata": {},
   "outputs": [
    {
     "name": "stdout",
     "output_type": "stream",
     "text": [
      "인사가 시작되었습니다.\n",
      "HELLO!!\n",
      "인사가 종료되었습니다\n"
     ]
    }
   ],
   "source": [
    "# 함수의 데코레이터 사용\n",
    "def test(function):\n",
    "    def wrapper():\n",
    "        print(\"인사가 시작되었습니다.\")\n",
    "        function()\n",
    "        print(\"인사가 종료되었습니다\")\n",
    "    return wrapper\n",
    "\n",
    "# @데코레이션을 붙어 함수 생성\n",
    "@test\n",
    "def hello():\n",
    "    print(\"hello!!\")\n",
    "@test\n",
    "def hello2():\n",
    "    print(\"HELLO!!\")\n",
    "    \n",
    "# 함수호출\n",
    "\n",
    "hello2()"
   ]
  },
  {
   "cell_type": "code",
   "execution_count": 2,
   "id": "75ec7fe6",
   "metadata": {},
   "outputs": [
    {
     "name": "stdout",
     "output_type": "stream",
     "text": [
      "이름\t총점\t평균\n",
      "윤인성\t368\t92.0\n",
      "연하진\t384\t96.0\n",
      "구지연\t356\t89.0\n",
      "나선주\t378\t94.5\n",
      "윤아린\t389\t97.25\n",
      "윤명월\t336\t84.0\n"
     ]
    }
   ],
   "source": [
    "# 학생 리스트를 선언합니다.\n",
    "students = [\n",
    "    { \"name\": \"윤인성\", \"korean\": 87, \"math\": 98, \"english\": 88, \"science\": 95 },\n",
    "    { \"name\": \"연하진\", \"korean\": 92, \"math\": 98, \"english\": 96, \"science\": 98 },\n",
    "    { \"name\": \"구지연\", \"korean\": 76, \"math\": 96, \"english\": 94, \"science\": 90 },\n",
    "    { \"name\": \"나선주\", \"korean\": 98, \"math\": 92, \"english\": 96, \"science\": 92 },\n",
    "    { \"name\": \"윤아린\", \"korean\": 95, \"math\": 98, \"english\": 98, \"science\": 98 },\n",
    "    { \"name\": \"윤명월\", \"korean\": 64, \"math\": 88, \"english\": 92, \"science\": 92 }\n",
    "]\n",
    "\n",
    "# 학생을 한 명씩 반복합니다.\n",
    "print(\"이름\", \"총점\", \"평균\", sep=\"\\t\")\n",
    "for student in students:\n",
    "    # 점수의 총합과 평균을 구합니다.\n",
    "    score_sum = student[\"korean\"] + student[\"math\"] +\\\n",
    "        student[\"english\"] + student[\"science\"]\n",
    "    score_average = score_sum / 4\n",
    "    # 출력합니다.\n",
    "    print(student[\"name\"], score_sum, score_average, sep=\"\\t\")\n"
   ]
  },
  {
   "cell_type": "code",
   "execution_count": 11,
   "id": "d1820c86",
   "metadata": {},
   "outputs": [],
   "source": [
    "# 객체를 생성하는 함수를 작성\n",
    "def create_student(name, korean, math, english, science):\n",
    "    return{\n",
    "            \"name\":name, \"korean\":korean, \"math\":math, \"english\":english,\n",
    "            \"science\":science\n",
    "          }\n",
    "\n",
    "# 학생을 처리하는 함수 선언\n",
    "def student_get_sum(student):\n",
    "    return student['korean']+student['math']+student['english']+student['science']\n",
    "\n",
    "def student_get_avg(student):\n",
    "    return student_get_sum(student) / 4\n",
    "\n",
    "def student_to_string(student):\n",
    "    return (\"{}\\t{}\\t{}\".format(student[\"name\"],\\\n",
    "                              student_get_sum(student), student_get_avg(student)))"
   ]
  },
  {
   "cell_type": "code",
   "execution_count": 13,
   "id": "16a08f2b",
   "metadata": {},
   "outputs": [
    {
     "name": "stdout",
     "output_type": "stream",
     "text": [
      "이름\t총점\t평균\n",
      "윤인성\t368\t92.0\n",
      "연하진\t384\t96.0\n",
      "구지연\t356\t89.0\n",
      "나선주\t378\t94.5\n",
      "윤아린\t389\t97.25\n",
      "윤명월\t336\t84.0\n"
     ]
    }
   ],
   "source": [
    "students = [\n",
    "    create_student(\"윤인성\", 87, 98, 88, 95),\n",
    "    create_student(\"연하진\", 92, 98, 96, 98),\n",
    "    create_student(\"구지연\", 76, 96, 94, 90),\n",
    "    create_student(\"나선주\", 98, 92, 96, 92),\n",
    "    create_student(\"윤아린\", 95, 98, 98, 98),\n",
    "    create_student(\"윤명월\", 64, 88, 92, 92),\n",
    "]\n",
    "\n",
    "# 학생을 한 명씩 자료 출력\n",
    "print(\"이름\", \"총점\", \"평균\", sep=\"\\t\")\n",
    "for student in students:\n",
    "    print(student_to_string(student))"
   ]
  },
  {
   "cell_type": "code",
   "execution_count": 131,
   "id": "e2737ea3",
   "metadata": {},
   "outputs": [
    {
     "name": "stdout",
     "output_type": "stream",
     "text": [
      "홍길동\n",
      "홍길동\n",
      "홍길동\n"
     ]
    }
   ],
   "source": [
    "# 클래스 생성 class 클래스명:\n",
    "class Student:\n",
    "    def __init__(self, name):\n",
    "        self.name = name\n",
    "    def print_name(self):\n",
    "        return print(self.name)\n",
    "        \n",
    "# Student 클래스의 오브젝트 생성\n",
    "a = Student(\"홍길동\")\n",
    "a.print_name()\n",
    "a.print_name()\n",
    "a.print_name()"
   ]
  },
  {
   "cell_type": "code",
   "execution_count": 1,
   "id": "d4fbf201",
   "metadata": {},
   "outputs": [],
   "source": [
    "x = 0\n",
    "y = 0"
   ]
  },
  {
   "cell_type": "code",
   "execution_count": 12,
   "id": "5455b4a6",
   "metadata": {},
   "outputs": [
    {
     "name": "stdout",
     "output_type": "stream",
     "text": [
      "11\n",
      "생성자\n",
      "10\n",
      "소멸자\n"
     ]
    }
   ],
   "source": [
    "class Test:\n",
    "    def __init__(self):\n",
    "        global x\n",
    "        x += 1\n",
    "        print(x)\n",
    "        print(\"생성자\")\n",
    "    def __del__(self):\n",
    "        global y\n",
    "        y += 1\n",
    "        print(y)\n",
    "        print(\"소멸자\")\n",
    "\n",
    "t = Test()"
   ]
  },
  {
   "cell_type": "code",
   "execution_count": 86,
   "id": "4e2699e4",
   "metadata": {},
   "outputs": [
    {
     "name": "stdout",
     "output_type": "stream",
     "text": [
      "이름을 입력하세요 : A\n",
      "국어 영어 성적 입력 : 1 2\n",
      "이름을 입력하세요 : B\n",
      "국어 영어 성적 입력 : 2 3\n",
      "이름을 입력하세요 : q\n",
      "입력 종료\n",
      "A\t3\t1.5\n",
      "B\t5\t2.5\n"
     ]
    }
   ],
   "source": [
    "### 키보드에서 이름, 국어, 영어 성적을 입력받아 자료에 저장 한 후\n",
    "# 이름에 q가 입력되면 입력종료\n",
    "# 저장된 각 자료의 이름 총점 평균을 출력\n",
    "# 전체 입력된 인원수를 출력\n",
    "\n",
    "\n",
    "class Student:\n",
    "    def __init__(self, name, korean, english):\n",
    "        self.name = name\n",
    "        self.korean = korean\n",
    "        self.english = english\n",
    "        \n",
    "    def get_sum(self):\n",
    "        return self.korean+self.english\n",
    "\n",
    "    def get_avg(self):\n",
    "        return self.get_sum() / 2\n",
    "\n",
    "    def to_string(self):\n",
    "        return (\"{}\\t{}\\t{}\".format(self.name, self.get_sum(), self.get_avg()))\n",
    "    def to_str(self):\n",
    "        return \"{},{},{}\".format(self.name, self.korean,self.english)\n",
    "\n",
    "\n",
    "students = []\n",
    "\n",
    "while True:\n",
    "    name = input(\"이름을 입력하세요 : \")\n",
    "    \n",
    "    if name in 'qQ':\n",
    "        print(\"입력 종료\")        \n",
    "        break\n",
    "    scores = input(\"국어 영어 성적 입력 : \").split()\n",
    "    if len(scores) != 2:\n",
    "        print(\"국어 영어 성적을 입력하세요\")\n",
    "        continue\n",
    "        \n",
    "    korean = int(scores[0])\n",
    "    english = int(scores[1])\n",
    "    students.append(Student(name, korean, english))\n",
    "\n",
    "for i in range(len(students)):\n",
    "    print(students[i].to_string())"
   ]
  },
  {
   "cell_type": "code",
   "execution_count": 97,
   "id": "e48637e5",
   "metadata": {},
   "outputs": [
    {
     "name": "stdout",
     "output_type": "stream",
     "text": [
      "이름 입력 : A\n",
      "국어 영어 성적 입력 : 1 2\n",
      "이름 입력 : B\n",
      "국어 영어 성적 입력 : 3 4\n",
      "이름 입력 : q\n",
      "입력 종료\n"
     ]
    }
   ],
   "source": [
    "file = open(\"students.txt\", \"a+\")\n",
    "while True:\n",
    "    name = input(\"이름 입력 : \")\n",
    "    if name in 'qQ':   # 이름에 q 또는 Q가 입력되면 입력 종료\n",
    "        print(\"입력 종료\")\n",
    "        break\n",
    "    scores = input(\"국어 영어 성적 입력 : \").split()\n",
    "    if len(scores) != 2:\n",
    "        print(\"국어 영어 성적을 입력하세요 \")\n",
    "        continue\n",
    "    \n",
    "    korean = int(scores[0])\n",
    "    english = int(scores[1])\n",
    "    # 학생 자료 파일에 추가\n",
    "    student = Student(name,korean, english)\n",
    "    file.write(student.to_str()+'\\n')\n",
    "#     students.append(Student(name,korean, english ))"
   ]
  },
  {
   "cell_type": "code",
   "execution_count": 100,
   "id": "12f78bfd",
   "metadata": {},
   "outputs": [
    {
     "name": "stdout",
     "output_type": "stream",
     "text": [
      "이름\t총점\t평균\n",
      "A\t3\t1.5\n",
      "B\t5\t2.5\n",
      "입력된 학생의 총 인원수 :  2\n"
     ]
    }
   ],
   "source": [
    "file.seek(0)\n",
    "file_students = []\n",
    "for line in file.readlines():\n",
    "    in_data = line.strip('\\n').split('\\t')\n",
    "    name = in_data[0]\n",
    "    korean = int(in_data[1])\n",
    "    english = int(in_data[2])    \n",
    "#     (name, korean, english )= line.strip('\\n').split(',')\n",
    "    file_students.append(Student(name,korean,english))\n",
    "    \n",
    "# 저장된 각 자료의 이름, 총점, 평균을 출력\n",
    "print(\"이름\", \"총점\", \"평균\", sep=\"\\t\")\n",
    "for student in file_students:\n",
    "    print(student.to_string())\n",
    "\n",
    "print(\"입력된 학생의 총 인원수 : \",len(file_students))\n",
    "file.close()"
   ]
  },
  {
   "cell_type": "code",
   "execution_count": 142,
   "id": "c5152667",
   "metadata": {},
   "outputs": [
    {
     "name": "stdout",
     "output_type": "stream",
     "text": [
      "휴먼\n",
      "학생\n",
      "True\n",
      "True\n",
      "False\n",
      "True\n",
      "\n"
     ]
    }
   ],
   "source": [
    "# 클래스의 상속이 있는 경우 인스턴스가 어느 클래스인지 확인\n",
    "# isinstance(인스턴스, 클래스)\n",
    "# type(인스턴스) == 클래스\n",
    "class Human:\n",
    "    def __init__(self):\n",
    "        print(\"휴먼\")\n",
    "\n",
    "class Student1(Human):   # class 클래스명(클래스명1) -> 클래스1을 상속받음\n",
    "    def __init__(self):\n",
    "        Human.__init__(self)\n",
    "        print(\"학생\")\n",
    "\n",
    "student = Student1()\n",
    "\n",
    "print(isinstance(student, Human))\n",
    "print(isinstance(student, Student1))\n",
    "print(type(student) == Human)\n",
    "print(type(student) == Student1)\n",
    "print()\n",
    "\n",
    "# human = Human()\n",
    "\n",
    "# print(isinstance(human, Human))\n",
    "# print(isinstance(human, Student1))\n",
    "# print(type(human) == Human)\n",
    "# print(type(human) == Student1)"
   ]
  },
  {
   "cell_type": "code",
   "execution_count": 121,
   "id": "3406ccf0",
   "metadata": {},
   "outputs": [
    {
     "name": "stdout",
     "output_type": "stream",
     "text": [
      "공부를 합니다\n",
      "가르칩니다\n"
     ]
    }
   ],
   "source": [
    "# 클래스 상속\n",
    "class Student2:\n",
    "    def study(self):\n",
    "        print(\"공부를 합니다\")\n",
    "class Teacher:\n",
    "    def teach(self):\n",
    "        print(\"가르칩니다\")\n",
    "        \n",
    "classroom = [Student2(), Teacher()]\n",
    "\n",
    "for person in classroom:\n",
    "    if isinstance(person, Student2):\n",
    "        person.study()\n",
    "    elif isinstance(person, Teacher):\n",
    "        person.teach()"
   ]
  },
  {
   "cell_type": "code",
   "execution_count": 137,
   "id": "3956f01c",
   "metadata": {},
   "outputs": [],
   "source": [
    "class Student:\n",
    "    def __init__(self, name, korean, english):\n",
    "        self.name = name\n",
    "        self.korean = korean\n",
    "        self.english = english\n",
    "        \n",
    "    def get_sum(self):\n",
    "        return self.korean+self.english\n",
    "\n",
    "    def get_avg(self):\n",
    "        return self.get_sum() / 2\n",
    "\n",
    "    def __str__(self):\n",
    "        return (\"{}\\t{}\\t{}\".format(self.name, self.get_sum(), self.get_avg()))\n",
    "    \n",
    "    def to_str(self):\n",
    "        return \"{},{},{}\".format(self.name, self.korean,self.english)\n",
    "    \n",
    "    def __eq__(self, value):\n",
    "        return self.get_sum() == value.get_sum()\n",
    "    \n",
    "    def __gt__(self, value):\n",
    "        return self.get_sum() > value.get_sum()\n",
    "    \n",
    "#     def __lt__(self, value):\n",
    "#         return self.get_sum() < value.get_sum()"
   ]
  },
  {
   "cell_type": "code",
   "execution_count": 139,
   "id": "b7b2081c",
   "metadata": {},
   "outputs": [
    {
     "name": "stdout",
     "output_type": "stream",
     "text": [
      "test1\t189\t94.5\n",
      "False\n",
      "True\n"
     ]
    }
   ],
   "source": [
    "student1 = Student('test1',99,90)\n",
    "student2 = Student('test2',100,100)\n",
    "print(str(student1))\n",
    "print (student1 == student2)\n",
    "print (student1 < student2)"
   ]
  },
  {
   "cell_type": "code",
   "execution_count": 163,
   "id": "492f2b15",
   "metadata": {},
   "outputs": [],
   "source": [
    "class Student:\n",
    "    count = 0\n",
    "    def __init__(self, name, korean, english):\n",
    "        self.name = name\n",
    "        self.korean = korean\n",
    "        self.english = english\n",
    "        \n",
    "        Student.count +=1\n",
    "        \n",
    "        print(f\"{Student.count}번째 학생\")"
   ]
  },
  {
   "cell_type": "code",
   "execution_count": 164,
   "id": "1100bf6d",
   "metadata": {},
   "outputs": [
    {
     "name": "stdout",
     "output_type": "stream",
     "text": [
      "1번째 학생\n",
      "2번째 학생\n",
      "3번째 학생\n"
     ]
    }
   ],
   "source": [
    "students = [\n",
    "    Student('A', 90, 80),\n",
    "    Student('B', 100, 50)\n",
    "]\n",
    "\n",
    "students.append(Student('C', 80, 90))"
   ]
  },
  {
   "cell_type": "code",
   "execution_count": 192,
   "id": "bdd67dd6",
   "metadata": {},
   "outputs": [],
   "source": [
    "# class 변수, 클래스 함수 @classmethod -> 함수 정의\n",
    "class Student:\n",
    "    count = 0\n",
    "    students = []\n",
    "    \n",
    "    @classmethod\n",
    "    def print(cls):\n",
    "        print('------- 학생 목록 -------')\n",
    "        print(\"이름\\t총점\\t평균\")\n",
    "#         for student in Student.students 도 가능\n",
    "        for student in cls.students:\n",
    "            print(str(student))\n",
    "        print('-------------------------')\n",
    "                  \n",
    "    def __init__(self, name, korean, english):\n",
    "        self.name = name\n",
    "        self.korean = korean\n",
    "        self.english = english\n",
    "        \n",
    "        Student.count +=1\n",
    "        Student.students.append(self)\n",
    "                  \n",
    "    def get_sum(self):\n",
    "        return self.korean+self.english\n",
    "\n",
    "    def get_avg(self):\n",
    "        return self.get_sum() / 2\n",
    "\n",
    "    def __str__(self):\n",
    "        return \"{}\\t{}\\t{}\".format(self.name, self.get_sum(), self.get_avg())"
   ]
  },
  {
   "cell_type": "code",
   "execution_count": 191,
   "id": "d139da06",
   "metadata": {},
   "outputs": [
    {
     "name": "stdout",
     "output_type": "stream",
     "text": [
      "이름을 입력하세요 : A\n",
      "국어 영어 성적 입력 : 1 2\n",
      "이름을 입력하세요 : B\n",
      "국어 영어 성적 입력 : 2 3\n",
      "이름을 입력하세요 : q\n",
      "입력 종료\n",
      "------ 학생 목록 --------\n",
      "이름\t총점\t평균\n",
      "A\t3\t1.5\n",
      "B\t5\t2.5\n",
      "-------------------------\n"
     ]
    }
   ],
   "source": [
    "while True:\n",
    "    name = input(\"이름을 입력하세요 : \")\n",
    "    \n",
    "    if name in 'qQ':\n",
    "        print(\"입력 종료\")        \n",
    "        break\n",
    "    scores = input(\"국어 영어 성적 입력 : \").split()\n",
    "    if len(scores) != 2:\n",
    "        print(\"국어 영어 성적을 입력하세요\")\n",
    "        continue\n",
    "        \n",
    "    korean = int(scores[0])\n",
    "    english = int(scores[1])\n",
    "    Student(name, korean, english)\n",
    "\n",
    "Student.print()"
   ]
  }
 ],
 "metadata": {
  "kernelspec": {
   "display_name": "Python 3 (ipykernel)",
   "language": "python",
   "name": "python3"
  },
  "language_info": {
   "codemirror_mode": {
    "name": "ipython",
    "version": 3
   },
   "file_extension": ".py",
   "mimetype": "text/x-python",
   "name": "python",
   "nbconvert_exporter": "python",
   "pygments_lexer": "ipython3",
   "version": "3.9.12"
  }
 },
 "nbformat": 4,
 "nbformat_minor": 5
}
