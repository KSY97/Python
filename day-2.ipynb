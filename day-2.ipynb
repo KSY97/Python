{
 "cells": [
  {
   "cell_type": "code",
   "execution_count": 11,
   "id": "04d5e440",
   "metadata": {},
   "outputs": [
    {
     "name": "stdout",
     "output_type": "stream",
     "text": [
      "HELLO PYTHON PROGRAMMING !!\n",
      "hello python programming !!\n"
     ]
    }
   ],
   "source": [
    "# 문자열 관련 함수 : 문자열오브젝트.upper(), 오브젝트.lower()\n",
    "a_str = \"Hello Python programming !!\"\n",
    "print(a_str.upper())\n",
    "print(a_str.lower())"
   ]
  },
  {
   "cell_type": "code",
   "execution_count": 19,
   "id": "e9e8a832",
   "metadata": {},
   "outputs": [
    {
     "name": "stdout",
     "output_type": "stream",
     "text": [
      "strip() -> /Hello Python programing/\n",
      "ltrip() -> /Hello Python programing    /\n",
      "rtrip() -> /   Hello Python programing/\n"
     ]
    }
   ],
   "source": [
    "# 문자열의 공백 제거 : 문자열.strip() -> 양쪽의 공백 제거\n",
    "#                      문자열.lstrip() -> 왼쪽의 공백 제거\n",
    "#                      문자열.rstrip() -> 오른쪽의 공백 제거\n",
    "a_str = \"   Hello Python programing   !!   \"\n",
    "print(\"strip() -> /{}/\".format(a_str.strip()))\n",
    "print(\"ltrip() -> /{}/\".format(a_str.lstrip()))\n",
    "print(\"rtrip() -> /{}/\".format(a_str.rstrip()))"
   ]
  },
  {
   "cell_type": "code",
   "execution_count": 28,
   "id": "6e180339",
   "metadata": {},
   "outputs": [
    {
     "name": "stdout",
     "output_type": "stream",
     "text": [
      "False\n",
      "True\n"
     ]
    }
   ],
   "source": [
    "# 문자열이 알파벳 또는 숫자로만 구성되어있는지 확인 : isalnum()\n",
    "x_str = \"abcd 1234\"\n",
    "print(x_str.isalnum())\n",
    "y_str = \"abcd1234\"\n",
    "print(y_str.isalnum())"
   ]
  },
  {
   "cell_type": "code",
   "execution_count": 49,
   "id": "abaa593d",
   "metadata": {},
   "outputs": [
    {
     "name": "stdout",
     "output_type": "stream",
     "text": [
      "Python\n",
      "Python\n"
     ]
    }
   ],
   "source": [
    "# find(), rfind() -> 위치 반환\n",
    "# Python만 출력\n",
    "a_str = \"Hello Python programing!!\"\n",
    "n = a_str.find(\"Python\")\n",
    "print(a_str[n:n+len(\"Python\")])\n",
    "print(a_str[a_str.find(' ')+1 : a_str.rfind(' ')])"
   ]
  },
  {
   "cell_type": "code",
   "execution_count": 59,
   "id": "7b2e643c",
   "metadata": {},
   "outputs": [
    {
     "name": "stdout",
     "output_type": "stream",
     "text": [
      "True\n",
      "False\n",
      "['hello', 'hello', 'python']\n",
      "222\n",
      "111\n"
     ]
    }
   ],
   "source": [
    "# 문자가 해당 문자열에 있는지 확인 : 문자 in 문자열\n",
    "a_str = \"hello hello python\"\n",
    "b_str = \"111 222 333\"\n",
    "print('hello' in a_str)\n",
    "print ('a' in a_str)\n",
    "\n",
    "# 문자열.split('분리하고자 하는 문자') 공백은 생략 가능\n",
    "print(a_str.split())\n",
    "print(b_str.split()[1])\n",
    "c_str = b_str.split()\n",
    "print(c_str[0])"
   ]
  },
  {
   "cell_type": "code",
   "execution_count": 63,
   "id": "0d321121",
   "metadata": {},
   "outputs": [
    {
     "data": {
      "text/plain": [
       "'3 + 4 = 7'"
      ]
     },
     "execution_count": 63,
     "metadata": {},
     "output_type": "execute_result"
    }
   ],
   "source": [
    "# 3.6버전 이후부터 가능한 .format을 좀더쉽게 사용하는 방법\n",
    "# f\"문자열{표현식}문자열\"\n",
    "f\"3 + 4 = {3+4}\""
   ]
  },
  {
   "cell_type": "markdown",
   "id": "80b98ec1",
   "metadata": {},
   "source": [
    "## chap 3.조건문\n",
    "### 1.불 자료형과 if else elif조건문"
   ]
  },
  {
   "cell_type": "code",
   "execution_count": 71,
   "id": "43e56724",
   "metadata": {},
   "outputs": [
    {
     "name": "stdout",
     "output_type": "stream",
     "text": [
      "참\n"
     ]
    }
   ],
   "source": [
    "# True, False, and, or, not, ==, !=, >, <, >=, <=\n",
    "# if 표현식 :\n",
    "#    내용\n",
    "if True:\n",
    "    print(\"참\")\n",
    "if False:                            \n",
    "    print(\"거짓\")  # 실행되지않음"
   ]
  },
  {
   "cell_type": "code",
   "execution_count": 89,
   "id": "6e5b1557",
   "metadata": {},
   "outputs": [
    {
     "name": "stdout",
     "output_type": "stream",
     "text": [
      "입력 : 1.2\n",
      "입력받은 자료는 문자\n"
     ]
    }
   ],
   "source": [
    "# 키보드에서 자료를 입력 받아 숫자이면 '입력받은 자료는 숫자'\n",
    "#                             문자이면 '입력받은 자료는 문자'\n",
    "# 1. 자료 입력 받음\n",
    "# 2. 숫자이면 '입력받은 자료는 숫자' 출력\n",
    "# 3. 문자이면 '입력받은 자료는 문자' 출력\n",
    "\n",
    "if input(\"입력 : \").isnumeric(): # .isdigit() 도 가능\n",
    "    print(\"입력받은 자료는 숫자\")\n",
    "else:\n",
    "    print(\"입력받은 자료는 문자\")"
   ]
  },
  {
   "cell_type": "code",
   "execution_count": 141,
   "id": "0a487331",
   "metadata": {},
   "outputs": [
    {
     "name": "stdout",
     "output_type": "stream",
     "text": [
      "2022년 6월 24일 10시 45분 13초\n",
      "현재 시각은 10시로 오전입니다\n"
     ]
    }
   ],
   "source": [
    "# 날짜 / 시간 활용하기 : datetime 모듈 소스에 삽입\n",
    "# import 모듈명\n",
    "import datetime\n",
    "\n",
    "now = datetime.datetime.now()\n",
    "print(\"{}년 {}월 {}일 {}시 {}분 {}초\".format(now.year, now.month, now.day,\n",
    "                                       now.hour, now.minute, now.second))\n",
    "\n",
    "if now.hour < 12:\n",
    "    print('현재 시각은 {}시로 오전입니다'.format(now.hour))"
   ]
  },
  {
   "cell_type": "code",
   "execution_count": 158,
   "id": "5a468bce",
   "metadata": {},
   "outputs": [
    {
     "name": "stdout",
     "output_type": "stream",
     "text": [
      "6월은 여름입니다\n"
     ]
    }
   ],
   "source": [
    "# 3월에서 5월은 봄, 6월에서 8월은 여름, 9월에서 11월은 가을, 12월에서 2월은 겨울\n",
    "# else if 가 아니라 elif\n",
    "if 3 <= now.month <= 5:\n",
    "    print(\"{}월은 봄입니다\".format(now.month))\n",
    "elif 6 <= now.month <= 8:\n",
    "    print(\"{}월은 여름입니다\".format(now.month))\n",
    "elif 9 <= now.month <= 11:\n",
    "    print(\"{}월은 가을입니다\".format(now.month))\n",
    "else:\n",
    "    print(\"{}월은 겨울입니다\".format(now.month))"
   ]
  },
  {
   "cell_type": "code",
   "execution_count": 154,
   "id": "87f34950",
   "metadata": {},
   "outputs": [
    {
     "name": "stdout",
     "output_type": "stream",
     "text": [
      "정수를 입력하세요 : 123123\n",
      "홀수입니다.\n",
      "홀수입니다.\n"
     ]
    }
   ],
   "source": [
    "# 정수를 입력 받아 입력된 숫자가 짝수인지 홀수인지 출력\n",
    "# 1. 입력된 마지막 문자를 숫자로 변경 후 0,2,4,6,8이면 짝수\n",
    "#                                        1,3,5,7,9이면 홀수\n",
    "# 2. 입력딘 문자를 숫자로 변경 후 2로 나눈 나머지값이 0이면 짝수, 1이면 홀수\n",
    "input_num = input(\"정수를 입력하세요 : \")\n",
    "num = int(input_num)\n",
    "if (num % 2) != 1:\n",
    "    print(\"짝수입니다.\")\n",
    "else:\n",
    "    print(\"홀수입니다.\")\n",
    "    \n",
    "last_char = input_num[-1]\n",
    "\n",
    "if last_char in '02468':\n",
    "    print(\"짝수입니다.\")\n",
    "else:\n",
    "    print(\"홀수입니다.\")\n"
   ]
  },
  {
   "cell_type": "code",
   "execution_count": 162,
   "id": "57743485",
   "metadata": {},
   "outputs": [
    {
     "name": "stdout",
     "output_type": "stream",
     "text": [
      "참\n",
      "참\n"
     ]
    }
   ],
   "source": [
    "# 숫자는 0이아니면 True\n",
    "# 문자는 NULL이 아니면 True\n",
    "if 1:\n",
    "    print(\"참\")\n",
    "else:\n",
    "    print(\"거짓\")\n",
    "    \n",
    "if 'a':\n",
    "    print(\"참\")\n",
    "else:\n",
    "    print(\"거짓\")"
   ]
  },
  {
   "cell_type": "code",
   "execution_count": 173,
   "id": "5e6e6a96",
   "metadata": {},
   "outputs": [
    {
     "name": "stdout",
     "output_type": "stream",
     "text": [
      "입력 : 234214\n",
      "입력받은 자료는 숫자\n",
      "짝수입니다.\n"
     ]
    }
   ],
   "source": [
    "# 키보드에서 자료를 입력받아 정수이면 짝수인지 확인하고 짝수 출력\n",
    "# 정수가 아니면 마지막 문자 출력\n",
    "# 1. 키보드에서 자료 입력받음\n",
    "# 2. 정수인지 확인 -> 정수면 짝수 홀수 체크\n",
    "# 3. 정수가 아니라면 마지막 글자 출력\n",
    "input_key = input(\"입력 : \")\n",
    "\n",
    "if input_key.isnumeric(): # .isdigit() 도 가능\n",
    "    print(\"입력받은 자료는 숫자\")\n",
    "    num = int(input_key)\n",
    "    if (num % 2) != 1:\n",
    "        print(\"짝수입니다.\")\n",
    "    else:\n",
    "        print(\"홀수입니다.\")\n",
    "else:\n",
    "    print(\"입력받은 자료는 문자\")\n",
    "    print(\"입력받은 문자의 마지막 글자는 {}\".format(input_key[-1]))\n",
    "    "
   ]
  },
  {
   "cell_type": "code",
   "execution_count": 190,
   "id": "23714165",
   "metadata": {},
   "outputs": [
    {
     "name": "stdout",
     "output_type": "stream",
     "text": [
      "입력 : ½\n",
      "True\n",
      "False\n",
      "False\n"
     ]
    }
   ],
   "source": [
    "test = input(\"입력 : \")\n",
    "\n",
    "print(test.isnumeric())\n",
    "print(test.isdigit())\n",
    "print(test.isdecimal())"
   ]
  },
  {
   "cell_type": "code",
   "execution_count": 188,
   "id": "919f886e",
   "metadata": {},
   "outputs": [
    {
     "data": {
      "text/plain": [
       "[12, 'test', True, 345, 'python programming']"
      ]
     },
     "execution_count": 188,
     "metadata": {},
     "output_type": "execute_result"
    }
   ],
   "source": [
    "# 리스트 선언하기 : [요소, ...]\n",
    "list_a = [12,'test', True, 345, \"python programming\"]\n",
    "list_a"
   ]
  },
  {
   "cell_type": "code",
   "execution_count": 199,
   "id": "b8e23770",
   "metadata": {},
   "outputs": [
    {
     "name": "stdout",
     "output_type": "stream",
     "text": [
      "<class 'list'>\n",
      "test\n",
      "['test', True, 345]\n",
      "python programming\n",
      "python\n",
      "python\n",
      "e\n"
     ]
    }
   ],
   "source": [
    "# 리스트의 요소 접근방법 : 리스트[인덱스]\n",
    "print(type(list_a))\n",
    "print(list_a[1])\n",
    "print(list_a[1:4])\n",
    "print(list_a[-1])\n",
    "\n",
    "# python programming의 자료에서 python만 추출\n",
    "print(list_a[-1].split()[0])\n",
    "print(list_a[-1][0:list_a[-1].find(\" \")])\n",
    "\n",
    "# 'e' 추출\n",
    "print(list_a[1][1])"
   ]
  },
  {
   "cell_type": "code",
   "execution_count": 1,
   "id": "df5f6c68",
   "metadata": {},
   "outputs": [
    {
     "name": "stdout",
     "output_type": "stream",
     "text": [
      "a\n"
     ]
    }
   ],
   "source": [
    "list_b = [[1,2,3],['a','b','c'],[4,5,6]]\n",
    "# 'a' 추출\n",
    "print(list_b[1][0])\n",
    "\n",
    "list_a = [12, 'test', True, 345, 'python programing']\n",
    "list_a[1][1] # test에 e\n",
    "\n",
    "list_a[len(list_a)-1]"
   ]
  },
  {
   "cell_type": "code",
   "execution_count": 26,
   "id": "ff6e6ab0",
   "metadata": {},
   "outputs": [
    {
     "name": "stdout",
     "output_type": "stream",
     "text": [
      "[1, 2, 3, 4, 5, 6]\n",
      "\n",
      "[1, 2, 3]\n",
      "[1, 2, 3, 'a']\n",
      "[1, 2, 3, 'a', [4, 5, 6]]\n",
      "['test', 1, 2, 3, 'a', [4, 5, 6]]\n",
      "\n",
      "['test', 1, 2, 3, 'a', [4, 5, 6], 4, 5, 6]\n"
     ]
    }
   ],
   "source": [
    "# 리스트의 연산 : +, *\n",
    "# 리스트에 요소 추가하기 : 리스트명.append(요소), 리스트명.insert(위치, 요소)\n",
    "# 리스트의 각 요소를 리스트에 추가 :\n",
    "# 리스트명.extend(리스트)\n",
    "list_a = [1,2,3]\n",
    "list_b = [4,5,6]\n",
    "print(list_a + list_b)\n",
    "print()\n",
    "print(list_a)\n",
    "\n",
    "list_a.append('a')\n",
    "print(list_a)\n",
    "\n",
    "list_a.append(list_b)\n",
    "print(list_a)\n",
    "\n",
    "list_a.insert(0,'test')\n",
    "print(list_a)\n",
    "print()\n",
    "\n",
    "list_a.extend(list_b)\n",
    "print(list_a)"
   ]
  },
  {
   "cell_type": "code",
   "execution_count": 32,
   "id": "c9e54364",
   "metadata": {},
   "outputs": [
    {
     "name": "stdout",
     "output_type": "stream",
     "text": [
      "자료 입력 : 1\n",
      "자료 입력 : 2\n",
      "자료 입력 : 3\n",
      "자료 입력 : 4\n",
      "자료 입력 : 5\n",
      "입력한 자료 :  ['1', '2', '3', '4', '5']\n",
      "수정할 자료 입력 : b\n",
      "수정한 자료 :  ['1', 'b', '3', '4', '5']\n"
     ]
    }
   ],
   "source": [
    "# 다섯개의 자료를 입력받아 리스트로 만든 후\n",
    "\n",
    "input_list = []\n",
    "input_data = input(\"자료 입력 : \")\n",
    "input_list.append(input_data)\n",
    "input_data = input(\"자료 입력 : \")\n",
    "input_list.append(input_data)\n",
    "input_data = input(\"자료 입력 : \")\n",
    "input_list.append(input_data)\n",
    "input_data = input(\"자료 입력 : \")\n",
    "input_list.append(input_data)\n",
    "input_data = input(\"자료 입력 : \")\n",
    "input_list.append(input_data)\n",
    "\n",
    "print(\"입력한 자료 : \", input_list)\n",
    "input_list[1] = input(\"수정할 자료 입력 : \")\n",
    "print(\"수정한 자료 : \", input_list)"
   ]
  },
  {
   "cell_type": "code",
   "execution_count": 33,
   "id": "748db3aa",
   "metadata": {},
   "outputs": [
    {
     "name": "stdout",
     "output_type": "stream",
     "text": [
      "['b', '3', '4', '5']\n",
      "['b', '3', '4']\n",
      "['b', '4']\n"
     ]
    }
   ],
   "source": [
    "# 리스트 제거 : 인덱스 제거 -> del 리스트명[인덱스]\n",
    "# 마지막 요소 제거 : 리스트.pop()\n",
    "del input_list[0]\n",
    "print(input_list)\n",
    "\n",
    "input_list.pop()\n",
    "print(input_list)\n",
    "\n",
    "input_list.pop(1)\n",
    "print(input_list)"
   ]
  },
  {
   "cell_type": "code",
   "execution_count": 34,
   "id": "3b2e49f6",
   "metadata": {},
   "outputs": [
    {
     "name": "stdout",
     "output_type": "stream",
     "text": [
      "[1, 3, 5, 7, 9]\n",
      "[3, 4, 5]\n",
      "[9, 8, 7, 6, 5, 4, 3, 2, 1]\n"
     ]
    }
   ],
   "source": [
    "# 리스트의 인덱스 슬라이싱 : 리스트명[start : stop : step]\n",
    "list_a = [1,2,3,4,5,6,7,8,9]\n",
    "\n",
    "\n",
    "print(list_a[ : :2])\n",
    "print(list_a[2:5:1])\n",
    "print(list_a[ : :-1])"
   ]
  },
  {
   "cell_type": "code",
   "execution_count": 35,
   "id": "a253058e",
   "metadata": {},
   "outputs": [
    {
     "name": "stdout",
     "output_type": "stream",
     "text": [
      "[1, 3, 4, 5]\n",
      "[]\n"
     ]
    }
   ],
   "source": [
    "# 리스트의 자료 제거 : del 리스트명[인덱스], 리스트명.pop([위치])\n",
    "# 리스트의 값으로 제거 : 리스트명.remove(값)\n",
    "list_r = [1,2,3,4,5]\n",
    "list_r.remove(2)\n",
    "\n",
    "print(list_r)\n",
    "# 리스트의 내용을 모두 제거 : 리스트명.clear()\n",
    "list_r.clear()\n",
    "print(list_r)"
   ]
  },
  {
   "cell_type": "code",
   "execution_count": 38,
   "id": "5f6508e1",
   "metadata": {},
   "outputs": [
    {
     "name": "stdout",
     "output_type": "stream",
     "text": [
      "[34, 56, 12, 78, 23]\n",
      "[12, 23, 34, 56, 78]\n",
      "[78, 56, 34, 23, 12]\n"
     ]
    }
   ],
   "source": [
    "# 리스트 정렬 : 리스트.sort()\n",
    "list_a = [34, 56, 12, 78, 23]\n",
    "print(list_a)\n",
    "\n",
    "list_a.sort()\n",
    "print(list_a)\n",
    "\n",
    "list_a.sort(reverse=True)\n",
    "print(list_a)"
   ]
  },
  {
   "cell_type": "code",
   "execution_count": 42,
   "id": "1a223201",
   "metadata": {},
   "outputs": [],
   "source": [
    "# 리스트의 자료 수정 정리\n",
    "# 추가 : append(요소), insert(위치, 요소), extend(리스트)\n",
    "# 수정 : 리스트[위치] = 값\n",
    "# 삭제 : del 리스트[위치], pop() 마지막 삭제, pop(위치)\n",
    "# 값으로 삭제 : remove(값) 처음 나오는 값을 제거\n",
    "# 모든 요소 삭제 : clear()\n",
    "# 정렬 : sort()"
   ]
  },
  {
   "cell_type": "code",
   "execution_count": 41,
   "id": "13cd50e6",
   "metadata": {},
   "outputs": [
    {
     "name": "stdout",
     "output_type": "stream",
     "text": [
      "False\n",
      "True\n",
      "True\n"
     ]
    }
   ],
   "source": [
    "# 값 in 리스트\n",
    "print(20 in list_a)\n",
    "print(20 not in list_a)\n",
    "print(not 20 in list_a)"
   ]
  },
  {
   "cell_type": "code",
   "execution_count": 52,
   "id": "9e6ca861",
   "metadata": {},
   "outputs": [
    {
     "name": "stdout",
     "output_type": "stream",
     "text": [
      "h e l l o   f o r \n",
      "78\n",
      "56\n",
      "34\n",
      "23\n",
      "12\n",
      "\n",
      "1회 : 78\n",
      "2회 : 56\n",
      "3회 : 34\n",
      "4회 : 23\n",
      "5회 : 12\n",
      "end\n",
      "1\t2\t3\t\n",
      "4\t5\t6\t\n",
      "7\t8\t9\t10\t\n"
     ]
    }
   ],
   "source": [
    "# for 반복문을 리스트와 함께 사용\n",
    "# for 반복자 in 반복할 수 있는 모든 자료:\n",
    "\n",
    "for char in 'hello for':\n",
    "    print(char, end = ' ')\n",
    "print()\n",
    "\n",
    "for value in list_a:\n",
    "    print(value)\n",
    "print()\n",
    "\n",
    "cnt = 0\n",
    "for value in list_a:\n",
    "    cnt += 1\n",
    "    print(\"{}회 : {}\".format(cnt, value))\n",
    "print('end')\n",
    "print()\n",
    "\n",
    "list_array = [[1,2,3], [4,5,6], [7,8,9,10]]\n",
    "for items in list_array:\n",
    "    for item in items:\n",
    "        print(item, end = '\\t')\n",
    "    print()"
   ]
  },
  {
   "cell_type": "code",
   "execution_count": 54,
   "id": "d24ce54f",
   "metadata": {},
   "outputs": [
    {
     "name": "stdout",
     "output_type": "stream",
     "text": [
      "2 x 1 = 2\n",
      "2 x 2 = 4\n",
      "2 x 3 = 6\n",
      "2 x 4 = 8\n",
      "2 x 5 = 10\n",
      "2 x 6 = 12\n",
      "2 x 7 = 14\n",
      "2 x 8 = 16\n",
      "2 x 9 = 18\n",
      "\n",
      "3 x 1 = 3\n",
      "3 x 2 = 6\n",
      "3 x 3 = 9\n",
      "3 x 4 = 12\n",
      "3 x 5 = 15\n",
      "3 x 6 = 18\n",
      "3 x 7 = 21\n",
      "3 x 8 = 24\n",
      "3 x 9 = 27\n",
      "\n",
      "4 x 1 = 4\n",
      "4 x 2 = 8\n",
      "4 x 3 = 12\n",
      "4 x 4 = 16\n",
      "4 x 5 = 20\n",
      "4 x 6 = 24\n",
      "4 x 7 = 28\n",
      "4 x 8 = 32\n",
      "4 x 9 = 36\n",
      "\n",
      "5 x 1 = 5\n",
      "5 x 2 = 10\n",
      "5 x 3 = 15\n",
      "5 x 4 = 20\n",
      "5 x 5 = 25\n",
      "5 x 6 = 30\n",
      "5 x 7 = 35\n",
      "5 x 8 = 40\n",
      "5 x 9 = 45\n",
      "\n",
      "6 x 1 = 6\n",
      "6 x 2 = 12\n",
      "6 x 3 = 18\n",
      "6 x 4 = 24\n",
      "6 x 5 = 30\n",
      "6 x 6 = 36\n",
      "6 x 7 = 42\n",
      "6 x 8 = 48\n",
      "6 x 9 = 54\n",
      "\n",
      "7 x 1 = 7\n",
      "7 x 2 = 14\n",
      "7 x 3 = 21\n",
      "7 x 4 = 28\n",
      "7 x 5 = 35\n",
      "7 x 6 = 42\n",
      "7 x 7 = 49\n",
      "7 x 8 = 56\n",
      "7 x 9 = 63\n",
      "\n",
      "8 x 1 = 8\n",
      "8 x 2 = 16\n",
      "8 x 3 = 24\n",
      "8 x 4 = 32\n",
      "8 x 5 = 40\n",
      "8 x 6 = 48\n",
      "8 x 7 = 56\n",
      "8 x 8 = 64\n",
      "8 x 9 = 72\n",
      "\n",
      "9 x 1 = 9\n",
      "9 x 2 = 18\n",
      "9 x 3 = 27\n",
      "9 x 4 = 36\n",
      "9 x 5 = 45\n",
      "9 x 6 = 54\n",
      "9 x 7 = 63\n",
      "9 x 8 = 72\n",
      "9 x 9 = 81\n",
      "\n"
     ]
    }
   ],
   "source": [
    "# 구구단 출력 1\n",
    "list_x = [2,3,4,5,6,7,8,9]\n",
    "list_y = [1,2,3,4,5,6,7,8,9]\n",
    "for x in list_x:\n",
    "    for y in list_y:\n",
    "        print(\"{} x {} = {}\".format(x, y, x * y))\n",
    "    print()\n",
    "    "
   ]
  },
  {
   "cell_type": "code",
   "execution_count": 67,
   "id": "8d4ec413",
   "metadata": {},
   "outputs": [
    {
     "name": "stdout",
     "output_type": "stream",
     "text": [
      "\t\t=== 2단 ===\n",
      "2 x 1 = 2\t2 x 2 = 4\t2 x 3 = 6\t\n",
      "2 x 4 = 8\t2 x 5 = 10\t2 x 6 = 12\t\n",
      "2 x 7 = 14\t2 x 8 = 16\t2 x 9 = 18\t\n",
      "\n",
      "\t\t=== 3단 ===\n",
      "3 x 1 = 3\t3 x 2 = 6\t3 x 3 = 9\t\n",
      "3 x 4 = 12\t3 x 5 = 15\t3 x 6 = 18\t\n",
      "3 x 7 = 21\t3 x 8 = 24\t3 x 9 = 27\t\n",
      "\n",
      "\t\t=== 4단 ===\n",
      "4 x 1 = 4\t4 x 2 = 8\t4 x 3 = 12\t\n",
      "4 x 4 = 16\t4 x 5 = 20\t4 x 6 = 24\t\n",
      "4 x 7 = 28\t4 x 8 = 32\t4 x 9 = 36\t\n",
      "\n",
      "\t\t=== 5단 ===\n",
      "5 x 1 = 5\t5 x 2 = 10\t5 x 3 = 15\t\n",
      "5 x 4 = 20\t5 x 5 = 25\t5 x 6 = 30\t\n",
      "5 x 7 = 35\t5 x 8 = 40\t5 x 9 = 45\t\n",
      "\n",
      "\t\t=== 6단 ===\n",
      "6 x 1 = 6\t6 x 2 = 12\t6 x 3 = 18\t\n",
      "6 x 4 = 24\t6 x 5 = 30\t6 x 6 = 36\t\n",
      "6 x 7 = 42\t6 x 8 = 48\t6 x 9 = 54\t\n",
      "\n",
      "\t\t=== 7단 ===\n",
      "7 x 1 = 7\t7 x 2 = 14\t7 x 3 = 21\t\n",
      "7 x 4 = 28\t7 x 5 = 35\t7 x 6 = 42\t\n",
      "7 x 7 = 49\t7 x 8 = 56\t7 x 9 = 63\t\n",
      "\n",
      "\t\t=== 8단 ===\n",
      "8 x 1 = 8\t8 x 2 = 16\t8 x 3 = 24\t\n",
      "8 x 4 = 32\t8 x 5 = 40\t8 x 6 = 48\t\n",
      "8 x 7 = 56\t8 x 8 = 64\t8 x 9 = 72\t\n",
      "\n",
      "\t\t=== 9단 ===\n",
      "9 x 1 = 9\t9 x 2 = 18\t9 x 3 = 27\t\n",
      "9 x 4 = 36\t9 x 5 = 45\t9 x 6 = 54\t\n",
      "9 x 7 = 63\t9 x 8 = 72\t9 x 9 = 81\t\n",
      "\n"
     ]
    }
   ],
   "source": [
    "# 구구단 출력 2\n",
    "list_x = [2,3,4,5,6,7,8,9]\n",
    "list_y = [1,2,3,4,5,6,7,8,9]\n",
    "for x in list_x:\n",
    "    print(\"\\t\\t=== {}단 ===\".format(x))\n",
    "    \n",
    "    for y in list_y:\n",
    "        print(\"{} x {} = {}\".format(x, y, x * y), end = '\\t')\n",
    "    \n",
    "        if (y % 3) == 0:\n",
    "            print()\n",
    "            \n",
    "    print()\n",
    "    "
   ]
  },
  {
   "cell_type": "code",
   "execution_count": 69,
   "id": "40b69d93",
   "metadata": {},
   "outputs": [
    {
     "name": "stdout",
     "output_type": "stream",
     "text": [
      "[1, 2, 3, 4, 5]\n",
      "1 2 3 4 5\n"
     ]
    }
   ],
   "source": [
    "# break, continue\n",
    "a_list = [1,2,3,4,5]\n",
    "\n",
    "print(a_list)\n",
    "print(*a_list)"
   ]
  }
 ],
 "metadata": {
  "kernelspec": {
   "display_name": "Python 3 (ipykernel)",
   "language": "python",
   "name": "python3"
  },
  "language_info": {
   "codemirror_mode": {
    "name": "ipython",
    "version": 3
   },
   "file_extension": ".py",
   "mimetype": "text/x-python",
   "name": "python",
   "nbconvert_exporter": "python",
   "pygments_lexer": "ipython3",
   "version": "3.9.12"
  }
 },
 "nbformat": 4,
 "nbformat_minor": 5
}
