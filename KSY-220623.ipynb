{
 "cells": [
  {
   "cell_type": "code",
   "execution_count": 10,
   "id": "1cab9361",
   "metadata": {},
   "outputs": [
    {
     "data": {
      "text/plain": [
       "['False',\n",
       " 'None',\n",
       " 'True',\n",
       " '__peg_parser__',\n",
       " 'and',\n",
       " 'as',\n",
       " 'assert',\n",
       " 'async',\n",
       " 'await',\n",
       " 'break',\n",
       " 'class',\n",
       " 'continue',\n",
       " 'def',\n",
       " 'del',\n",
       " 'elif',\n",
       " 'else',\n",
       " 'except',\n",
       " 'finally',\n",
       " 'for',\n",
       " 'from',\n",
       " 'global',\n",
       " 'if',\n",
       " 'import',\n",
       " 'in',\n",
       " 'is',\n",
       " 'lambda',\n",
       " 'nonlocal',\n",
       " 'not',\n",
       " 'or',\n",
       " 'pass',\n",
       " 'raise',\n",
       " 'return',\n",
       " 'try',\n",
       " 'while',\n",
       " 'with',\n",
       " 'yield']"
      ]
     },
     "execution_count": 10,
     "metadata": {},
     "output_type": "execute_result"
    }
   ],
   "source": [
    "# 키워드 import keyword -> keyword.kwlist 에서 확인 가능\n",
    "# 키워드는 변수로 사용 불가\n",
    "# ex1)\n",
    "import keyword \n",
    "keyword.kwlist"
   ]
  },
  {
   "cell_type": "code",
   "execution_count": 11,
   "id": "5b20865a",
   "metadata": {},
   "outputs": [
    {
     "name": "stdout",
     "output_type": "stream",
     "text": [
      "안녕하세요.\n",
      "1 2 3 4\n",
      "안녕하신가요?\n"
     ]
    }
   ],
   "source": [
    "# print()은 문자열 혹은 숫자 등등을 출력함\n",
    "# ex2)\n",
    "ex2_x = \"안녕하신가요?\"\n",
    "print(\"안녕하세요.\") # 문자열\n",
    "print(1,2,3,4) # 숫자\n",
    "print(ex1_x) # 변수"
   ]
  },
  {
   "cell_type": "code",
   "execution_count": 18,
   "id": "6315146d",
   "metadata": {},
   "outputs": [
    {
     "name": "stdout",
     "output_type": "stream",
     "text": [
      "<class 'str'>\n",
      "<class 'float'>\n",
      "<class 'int'>\n",
      "<class 'bool'>\n"
     ]
    }
   ],
   "source": [
    "# type() 해당 값의 자료형을 출력\n",
    "# ex3)\n",
    "ex3_x = 10\n",
    "print(type(\"문자열\"))\n",
    "print(type(10.0))\n",
    "print(type(ex3_x))\n",
    "print(type(True))"
   ]
  },
  {
   "cell_type": "code",
   "execution_count": 22,
   "id": "d777c88a",
   "metadata": {},
   "outputs": [
    {
     "name": "stdout",
     "output_type": "stream",
     "text": [
      "4\n"
     ]
    }
   ],
   "source": [
    "# len() 문자열의 전체 길이를 구하는 함수\n",
    "# ex4)\n",
    "print(len(\"test\"))"
   ]
  },
  {
   "cell_type": "code",
   "execution_count": 28,
   "id": "dc9afd49",
   "metadata": {},
   "outputs": [
    {
     "name": "stdout",
     "output_type": "stream",
     "text": [
      "1\n",
      "2\n",
      "3\n",
      "12\n",
      "345\n"
     ]
    }
   ],
   "source": [
    "# 함수에 있는 문자열에서 문자를 선택하거나 범위를 선택해 출력가능 \n",
    "# ex5)\n",
    "ex5_str = \"1234567\"\n",
    "print(ex5_str[0])\n",
    "print(ex5_str[1])\n",
    "print(ex5_str[2])\n",
    "print(ex5_str[0:2])\n",
    "print(ex5_str[2:5])"
   ]
  },
  {
   "cell_type": "code",
   "execution_count": 36,
   "id": "b775c2f4",
   "metadata": {},
   "outputs": [
    {
     "name": "stdout",
     "output_type": "stream",
     "text": [
      "110\n"
     ]
    }
   ],
   "source": [
    "# 대입 연산자(a += b -> a = a + b)\n",
    "# ex6)\n",
    "ex6_x = 10\n",
    "ex6_x += 100\n",
    "print(ex6_x)"
   ]
  },
  {
   "cell_type": "code",
   "execution_count": 42,
   "id": "947e463b",
   "metadata": {},
   "outputs": [
    {
     "name": "stdout",
     "output_type": "stream",
     "text": [
      "ㅁㄴㅇ\n",
      "ㅁㄴㅇ\n"
     ]
    }
   ],
   "source": [
    "# input() 사용자가 입력하는 함수(입력하는 모든 값은 문자열)\n",
    "# ex7)\n",
    "ex7_str = input()\n",
    "print(ex7_str)"
   ]
  },
  {
   "cell_type": "code",
   "execution_count": 49,
   "id": "21171152",
   "metadata": {},
   "outputs": [
    {
     "name": "stdout",
     "output_type": "stream",
     "text": [
      "<class 'int'>\n",
      "<class 'str'>\n"
     ]
    }
   ],
   "source": [
    "# int(), float(), str() 데이터 형변환 가능\n",
    "# ex8)\n",
    "ex8_x = 10 # 정수\n",
    "print(type(ex8_x))\n",
    "ex8_x = str(ex8_x) # 정수를 문자로 형변환\n",
    "print(type(ex8_x))"
   ]
  },
  {
   "cell_type": "code",
   "execution_count": 50,
   "id": "64e415f1",
   "metadata": {},
   "outputs": [
    {
     "name": "stdout",
     "output_type": "stream",
     "text": [
      "5 문자열 10.0\n"
     ]
    }
   ],
   "source": [
    "# .format() 문자를 편하게 가공해서 출력하기 위한 함수\n",
    "# ex9)\n",
    "ex9_str = \"포멧 함수 \"\n",
    "print(\"{} {} {}\".format(5, '문자열', '10.0'))"
   ]
  }
 ],
 "metadata": {
  "kernelspec": {
   "display_name": "Python 3 (ipykernel)",
   "language": "python",
   "name": "python3"
  },
  "language_info": {
   "codemirror_mode": {
    "name": "ipython",
    "version": 3
   },
   "file_extension": ".py",
   "mimetype": "text/x-python",
   "name": "python",
   "nbconvert_exporter": "python",
   "pygments_lexer": "ipython3",
   "version": "3.9.12"
  }
 },
 "nbformat": 4,
 "nbformat_minor": 5
}
