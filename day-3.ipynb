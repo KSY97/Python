{
 "cells": [
  {
   "cell_type": "code",
   "execution_count": 6,
   "id": "ddc7ab3c",
   "metadata": {},
   "outputs": [
    {
     "name": "stdout",
     "output_type": "stream",
     "text": [
      "{'name': '권순용', 'age': 26}\n",
      "<class 'dict'>\n"
     ]
    },
    {
     "data": {
      "text/plain": [
       "{'키': 10}"
      ]
     },
     "execution_count": 6,
     "metadata": {},
     "output_type": "execute_result"
    }
   ],
   "source": [
    "# 딕셔너리 선언 : {키:값, ...}, 리스트 [값 , ...]\n",
    "dict_a = {'name':'권순용', \"age\":26}\n",
    "\n",
    "print(dict_a)\n",
    "print(type(dict_a))\n",
    "\n",
    "name = '키'\n",
    "\n",
    "dict_b = {name:10}\n",
    "dict_b"
   ]
  },
  {
   "cell_type": "code",
   "execution_count": 7,
   "id": "144c74e6",
   "metadata": {},
   "outputs": [
    {
     "name": "stdout",
     "output_type": "stream",
     "text": [
      "{'name': '권순용', 'age': 26, 'title': '딕셔너리'}\n",
      "{'age': 26, 'title': '딕셔너리'}\n"
     ]
    }
   ],
   "source": [
    "# 딕셔너리에 값 추가 / 제거하기 : 딕셔너리[키] = 값\n",
    "# 삭제는 del 딕셔너리[키]\n",
    "dict_a['title'] = '딕셔너리'\n",
    "print(dict_a)\n",
    "\n",
    "del dict_a['name']\n",
    "print(dict_a)"
   ]
  },
  {
   "cell_type": "code",
   "execution_count": 31,
   "id": "946b3346",
   "metadata": {},
   "outputs": [
    {
     "name": "stdout",
     "output_type": "stream",
     "text": [
      "이름을 입력하세요 : 권순용\n",
      "성적을 입력하세요 : 59\n",
      "{'권순용': 59}\n",
      "이름을 입력하세요 : 김철수\n",
      "성적을 입력하세요 : 49\n",
      "{'권순용': 59, '김철수': 49}\n",
      "이름을 입력하세요 : 홍길동\n",
      "성적을 입력하세요 : 299\n",
      "{'권순용': 59, '김철수': 49, '홍길동': 299}\n",
      "이름을 입력하세요 : ㅂ\n",
      "성적을 입력하세요 : 28\n",
      "{'권순용': 59, '김철수': 49, '홍길동': 299, 'ㅂ': 28}\n",
      "이름을 입력하세요 : q\n"
     ]
    }
   ],
   "source": [
    "# 키보드에서 이름과 성적을 입력 받아 이름을 키로 성적을 값으로 딕셔너리에 저장\n",
    "# 이름에 'q'가 입력되면 입력 종료\n",
    "# 저장된 자료를 출력\n",
    "\n",
    "dict_g = {}\n",
    "\n",
    "while True:    \n",
    "    input_key = input(\"이름을 입력하세요 : \")\n",
    "    \n",
    "    if input_key == 'q':\n",
    "        break\n",
    "    \n",
    "    input_grade = int(input(\"성적을 입력하세요 : \"))\n",
    "    dict_g[input_key] = input_grade\n",
    "    print(dict_g)"
   ]
  },
  {
   "cell_type": "code",
   "execution_count": 24,
   "id": "b84313c2",
   "metadata": {},
   "outputs": [
    {
     "name": "stdout",
     "output_type": "stream",
     "text": [
      "False\n",
      "True\n"
     ]
    }
   ],
   "source": [
    "# 키가 존재하는지 확인 : key in 딕셔너리 -> 딕셔너리에 key가 있는지 확인\n",
    "\n",
    "print(1 in dict_g)\n",
    "\n",
    "print('1' in dict_g)"
   ]
  },
  {
   "cell_type": "code",
   "execution_count": 33,
   "id": "f9ae6385",
   "metadata": {},
   "outputs": [
    {
     "name": "stdout",
     "output_type": "stream",
     "text": [
      "검색하고싶은 이름을 입력하세요 :ㅂ\n",
      "ㅂ : 28점\n"
     ]
    }
   ],
   "source": [
    "# 검색하고자 하는 이름을 입력받아 입력된 자료에 존재하면 이름과 성적 출력\n",
    "# 존재하지 않으면 '존재하지 않는 이름'이라고 출력\n",
    "input_search = input(\"검색하고싶은 이름을 입력하세요 :\")\n",
    "if input_search in dict_g:\n",
    "    print(\"{} : {}점\".format(input_search, dict_g[input_search]))\n",
    "else:\n",
    "    print(\"존재하지 않는 이름입니다.\")"
   ]
  },
  {
   "cell_type": "code",
   "execution_count": 37,
   "id": "a7490ebc",
   "metadata": {},
   "outputs": [
    {
     "name": "stdout",
     "output_type": "stream",
     "text": [
      "검색하고싶은 이름을 입력하세요 :ㅂ\n",
      "ㅂ : 28점\n"
     ]
    }
   ],
   "source": [
    "# 키의 값이 있는지 확인하는 함수 : 딕셔너리.get(key) -> 값을 반환\n",
    "input_search = input(\"검색하고싶은 이름을 입력하세요 :\")\n",
    "value = dict_g.get(input_search)\n",
    "if value:\n",
    "    print(\"{} : {}점\".format(input_search, value))\n",
    "else:\n",
    "    print(\"존재하지 않는 이름입니다.\")"
   ]
  },
  {
   "cell_type": "code",
   "execution_count": 43,
   "id": "ae2dc7c2",
   "metadata": {},
   "outputs": [
    {
     "name": "stdout",
     "output_type": "stream",
     "text": [
      "권순용 : 59\n",
      "김철수 : 49\n",
      "홍길동 : 299\n",
      "ㅂ : 28\n"
     ]
    }
   ],
   "source": [
    "# for 반복문과 같이 사용 : for key in dict:\n",
    "# for문을 사용하여 딕셔너리 자료 출력\n",
    "for key in dict_g:\n",
    "    print(f\"{key} : {dict_g[key]}\")"
   ]
  },
  {
   "cell_type": "code",
   "execution_count": 50,
   "id": "3c71008b",
   "metadata": {},
   "outputs": [
    {
     "name": "stdout",
     "output_type": "stream",
     "text": [
      "권순용 : 59\n",
      "김철수 : 49\n",
      "홍길동 : 299\n",
      "ㅂ : 28\n"
     ]
    },
    {
     "data": {
      "text/plain": [
       "dict_values([59, 49, 299, 28])"
      ]
     },
     "execution_count": 50,
     "metadata": {},
     "output_type": "execute_result"
    }
   ],
   "source": [
    "# 딕셔너리의 키와 값을 동시에 가져오는 함수 : 딕셔너리.items()\n",
    "# 딕셔너리의 값만 가져오는 함수 : 딕셔너리.values()\n",
    "for key, value in dict_g.items():\n",
    "    print(f\"{key} : {value}\")\n",
    "dict_g.values()"
   ]
  },
  {
   "cell_type": "code",
   "execution_count": 88,
   "id": "f3c5dec6",
   "metadata": {},
   "outputs": [
    {
     "name": "stdout",
     "output_type": "stream",
     "text": [
      "학생의 이름을 입력하세요 : A\n",
      "A의 국어 성적을 입력하세요 : 20\n",
      "A의 영어 성적을 입력하세요 : 50\n",
      "A의 수학 성적을 입력하세요 : 40\n",
      "{'A': [20, 50, 40]}\n",
      "학생의 이름을 입력하세요 : B\n",
      "B의 국어 성적을 입력하세요 : 50\n",
      "B의 영어 성적을 입력하세요 : 40\n",
      "B의 수학 성적을 입력하세요 : 40\n",
      "{'A': [20, 50, 40], 'B': [50, 40, 40]}\n",
      "학생의 이름을 입력하세요 : q\n",
      "입력 종료\n",
      "{'A': [20, 50, 40], 'B': [50, 40, 40]}\n"
     ]
    }
   ],
   "source": [
    "# 이름과 국어, 영어, 수학 성적을 입력받아 딕셔너리에 저장한 후\n",
    "# students -> 이름, 국어, 영어, 수학\n",
    "# 학생별로 성적의 총합, 평균을 출력\n",
    "# 전체 학생의 인원수, 과목별 평균을 구하세요\n",
    "dict_students = {}\n",
    "\n",
    "\n",
    "while True:\n",
    "    input_name = input(\"학생의 이름을 입력하세요 : \")\n",
    "    if input_name == 'q':\n",
    "        print(\"입력 종료\")\n",
    "        break\n",
    "    list_students = []        \n",
    "    input_kor = int(input(\"{}의 국어 성적을 입력하세요 : \".format(input_name)))\n",
    "    list_students.append(input_kor)\n",
    "    input_eng = int(input(\"{}의 영어 성적을 입력하세요 : \".format(input_name)))\n",
    "    list_students.append(input_eng)\n",
    "    input_math = int(input(\"{}의 수학 성적을 입력하세요 : \".format(input_name)))\n",
    "    list_students.append(input_math)\n",
    "    \n",
    "    dict_students[input_name] = list_students\n",
    "    print(dict_students)\n",
    "\n",
    "print(dict_students)\n",
    "\n"
   ]
  },
  {
   "cell_type": "code",
   "execution_count": 94,
   "id": "568774e7",
   "metadata": {},
   "outputs": [
    {
     "name": "stdout",
     "output_type": "stream",
     "text": [
      "=========\n",
      "A : 성적의 총합 110점, 평균36.666666666666664\n",
      "B : 성적의 총합 130점, 평균43.333333333333336\n",
      "=========\n",
      "전체 학생의 인원수 : 2명\n",
      "국어의 평균 점수 : 35.0점\n",
      "영어의 평균 점수 : 45.0점\n",
      "수학의 평균 점수 : 40.0점\n"
     ]
    }
   ],
   "source": [
    "num_students = 0\n",
    "kor_add = 0\n",
    "eng_add = 0\n",
    "math_add = 0\n",
    "\n",
    "print(\"=========\")\n",
    "for name, grade in dict_students.items():\n",
    "    value_add = 0\n",
    "    for value in grade:\n",
    "        value_add += value\n",
    "        value_avg = value_add / 3\n",
    "\n",
    "    print(f\"{name} : 성적의 총합 {value_add}점, 평균{value_avg}\")\n",
    "    num_students += 1\n",
    "    \n",
    "    kor_add += grade[0]\n",
    "    eng_add += grade[1]\n",
    "    math_add += grade[2]\n",
    "\n",
    "print(\"=========\")\n",
    "print(f\"전체 학생의 인원수 : {dict_students}명\")\n",
    "print(f\"국어의 평균 점수 : {kor_add / num_students}점\")\n",
    "print(f\"영어의 평균 점수 : {eng_add / num_students}점\")\n",
    "print(f\"수학의 평균 점수 : {math_add / num_students}점\")"
   ]
  },
  {
   "cell_type": "code",
   "execution_count": 96,
   "id": "440c53cc",
   "metadata": {},
   "outputs": [
    {
     "name": "stdout",
     "output_type": "stream",
     "text": [
      "0 1\n",
      "1 2\n",
      "2 3\n",
      "3 4\n",
      "4 5\n"
     ]
    }
   ],
   "source": [
    "# 반복문에서 몇번 반복이 되는지 확인하는법 : for idx, 값 enumerate(값)\n",
    "# idx 증가하는 수\n",
    "\n",
    "list_num = {1,2,3,4,5}\n",
    "\n",
    "for idx, num in enumerate(list_num):\n",
    "    print(idx, num)"
   ]
  },
  {
   "cell_type": "code",
   "execution_count": 98,
   "id": "05d2fb16",
   "metadata": {},
   "outputs": [
    {
     "name": "stdout",
     "output_type": "stream",
     "text": [
      "\t\t=== 2단 ===\n",
      "2 x 1 = 2\t2 x 2 = 4\t2 x 3 = 6\t\n",
      "2 x 4 = 8\t2 x 5 = 10\t2 x 6 = 12\t\n",
      "2 x 7 = 14\t2 x 8 = 16\t2 x 9 = 18\t\n",
      "\n",
      "\t\t=== 3단 ===\n",
      "3 x 1 = 3\t3 x 2 = 6\t3 x 3 = 9\t\n",
      "3 x 4 = 12\t3 x 5 = 15\t3 x 6 = 18\t\n",
      "3 x 7 = 21\t3 x 8 = 24\t3 x 9 = 27\t\n",
      "\n",
      "\t\t=== 4단 ===\n",
      "4 x 1 = 4\t4 x 2 = 8\t4 x 3 = 12\t\n",
      "4 x 4 = 16\t4 x 5 = 20\t4 x 6 = 24\t\n",
      "4 x 7 = 28\t4 x 8 = 32\t4 x 9 = 36\t\n",
      "\n",
      "\t\t=== 5단 ===\n",
      "5 x 1 = 5\t5 x 2 = 10\t5 x 3 = 15\t\n",
      "5 x 4 = 20\t5 x 5 = 25\t5 x 6 = 30\t\n",
      "5 x 7 = 35\t5 x 8 = 40\t5 x 9 = 45\t\n",
      "\n",
      "\t\t=== 6단 ===\n",
      "6 x 1 = 6\t6 x 2 = 12\t6 x 3 = 18\t\n",
      "6 x 4 = 24\t6 x 5 = 30\t6 x 6 = 36\t\n",
      "6 x 7 = 42\t6 x 8 = 48\t6 x 9 = 54\t\n",
      "\n",
      "\t\t=== 7단 ===\n",
      "7 x 1 = 7\t7 x 2 = 14\t7 x 3 = 21\t\n",
      "7 x 4 = 28\t7 x 5 = 35\t7 x 6 = 42\t\n",
      "7 x 7 = 49\t7 x 8 = 56\t7 x 9 = 63\t\n",
      "\n",
      "\t\t=== 8단 ===\n",
      "8 x 1 = 8\t8 x 2 = 16\t8 x 3 = 24\t\n",
      "8 x 4 = 32\t8 x 5 = 40\t8 x 6 = 48\t\n",
      "8 x 7 = 56\t8 x 8 = 64\t8 x 9 = 72\t\n",
      "\n",
      "\t\t=== 9단 ===\n",
      "9 x 1 = 9\t9 x 2 = 18\t9 x 3 = 27\t\n",
      "9 x 4 = 36\t9 x 5 = 45\t9 x 6 = 54\t\n",
      "9 x 7 = 63\t9 x 8 = 72\t9 x 9 = 81\t\n",
      "\n"
     ]
    }
   ],
   "source": [
    "# 구구단 출력 3\n",
    "for x in range(2,10):\n",
    "    print(\"\\t\\t=== {}단 ===\".format(x))\n",
    "    \n",
    "    for y in range(1,10):\n",
    "        print(\"{} x {} = {}\".format(x, y, x * y), end = '\\t')\n",
    "    \n",
    "        if (y % 3) == 0:\n",
    "            print()\n",
    "            \n",
    "    print()"
   ]
  },
  {
   "cell_type": "code",
   "execution_count": 118,
   "id": "cadee89e",
   "metadata": {},
   "outputs": [
    {
     "name": "stdout",
     "output_type": "stream",
     "text": [
      "5\t10\t15\t20\t25\t\n",
      "30\t35\t40\t45\t50\t\n",
      "55\t60\t65\t70\t75\t\n",
      "80\t85\t90\t95\t100\t\n"
     ]
    }
   ],
   "source": [
    "# 0부터 100까지의 수중에서 5의 배수만 출력\n",
    "for num in range(0, 101):\n",
    "    if num % 5 == 0:\n",
    "        if num != 0:\n",
    "            print(num, end = \"\\t\")\n",
    "            if num % 25 == 0:\n",
    "                print()"
   ]
  },
  {
   "cell_type": "code",
   "execution_count": 122,
   "id": "89b8d213",
   "metadata": {},
   "outputs": [
    {
     "name": "stdout",
     "output_type": "stream",
     "text": [
      "0번째 값 : 3\n",
      "1번째 값 : 4\n",
      "2번째 값 : 1\n",
      "3번째 값 : 5\n",
      "4번째 값 : 7\n",
      "\n",
      "0번째 값 : 3\n",
      "1번째 값 : 4\n",
      "2번째 값 : 1\n",
      "3번째 값 : 5\n",
      "4번째 값 : 7\n"
     ]
    }
   ],
   "source": [
    "num_list = [3,4,1,5,7]\n",
    "\n",
    "for i in range(len(num_list)):\n",
    "    print(\"{}번째 값 : {}\".format(i, num_list[i]))\n",
    "print()\n",
    "for i, value in enumerate(num_list):\n",
    "    print(\"{}번째 값 : {}\".format(i, value))"
   ]
  },
  {
   "cell_type": "code",
   "execution_count": 133,
   "id": "9135f890",
   "metadata": {},
   "outputs": [
    {
     "name": "stdout",
     "output_type": "stream",
     "text": [
      "학생의 이름을 입력하세요 : A\n",
      "A의 국어 성적을 입력하세요 : B\n",
      "다시 입력해 주세요\n",
      "A의 국어 성적을 입력하세요 : 10\n",
      "A의 영어 성적을 입력하세요 : 20\n",
      "{'A': [10, 20]}\n",
      "학생의 이름을 입력하세요 : B\n",
      "B의 국어 성적을 입력하세요 : 40\n",
      "B의 영어 성적을 입력하세요 : 50\n",
      "{'A': [10, 20], 'B': [40, 50]}\n",
      "학생의 이름을 입력하세요 : q\n",
      "입력 종료\n",
      "{'A': [10, 20], 'B': [40, 50]}\n"
     ]
    }
   ],
   "source": [
    "# 키보드에서 이름을 입력받아 'q'가 입력되면 입력 종료\n",
    "# 아니면 국어 영어 점수를 입력받아 저장\n",
    "# 입력받은 점수의 갯수가 2가 아니거나 숫자가 아니면 다시 입력\n",
    "# 입력 종료 후 검색하고자 하는 이름을 입력 받아\n",
    "# 검색된 이름의 성적과, 총점, 평균 출력\n",
    "# 총 입력된 학생의 수 출력\n",
    "# 전체 학생의 성적의 합계를 기존의 자료에 추가\n",
    "# 최고점을 받은 학생의 정보 출력\n",
    "dict_students = {}\n",
    "\n",
    "\n",
    "while True:\n",
    "    input_name = input(\"학생의 이름을 입력하세요 : \")\n",
    "    if input_name == 'q':\n",
    "        print(\"입력 종료\")\n",
    "        break\n",
    "    list_students = []\n",
    "    \n",
    "    while True:\n",
    "        input_kor = input(\"{}의 국어 성적을 입력하세요 : \".format(input_name))\n",
    "        if input_kor.isnumeric():\n",
    "            list_students.append(int(input_kor))\n",
    "            break\n",
    "        else:\n",
    "            print(\"다시 입력해 주세요\")\n",
    "            continue\n",
    "            \n",
    "    while True:\n",
    "        input_eng = input(\"{}의 영어 성적을 입력하세요 : \".format(input_name))\n",
    "        if input_eng.isnumeric():\n",
    "            list_students.append(int(input_eng))\n",
    "            break\n",
    "        else:\n",
    "            print(\"다시 입력해 주세요\")\n",
    "            continue\n",
    "        \n",
    "    dict_students[input_name] = list_students\n",
    "    print(dict_students)\n",
    "\n",
    "print(dict_students)"
   ]
  },
  {
   "cell_type": "code",
   "execution_count": null,
   "id": "12b0aa7a",
   "metadata": {},
   "outputs": [],
   "source": [
    "# 입력 종료 후 검색하고자 하는 이름을 입력 받아\n",
    "# 검색된 이름의 성적과, 총점, 평균 출력\n",
    "# 총 입력된 학생의 수 출력\n",
    "# 전체 학생의 성적의 합계를 기존의 자료에 추가\n",
    "# 최고점을 받은 학생의 정보 출력\n",
    "\n",
    "num_students = 0\n",
    "kor_add = 0\n",
    "eng_add = 0\n",
    "value_add = 0\n",
    "value_avg = 0\n",
    "# list_grade = []\n",
    "\n",
    "while True:\n",
    "    search_data = input(\"검색할 학생의 이름을 입력하세요 : \")\n",
    "    if search_data in dict_students:\n",
    "        print(dict_students[search_data])\n",
    "        for grade in dict_students[search_data]:\n",
    "            print(grade)\n",
    "\n",
    "            value_add += grade\n",
    "\n",
    "        value_avg = value_add / 2\n",
    "        print(f\"{search_data} : 성적의 총합 {value_add}점, 평균 {value_avg}\")\n",
    "\n",
    "    elif search_data == 'q':\n",
    "        break\n",
    "    else:\n",
    "        print(\"입력한 학생이 없습니다.\")\n",
    "        continue\n",
    "\n",
    "print(\"=========\")\n",
    "\n",
    "# for x in range(len(dict_students)):\n",
    "    \n",
    "print(f\"전체 학생의 인원수 : {len(dict_students)}명\")\n",
    "# print(f\"최고점을 받은 학생은 : {}\")"
   ]
  },
  {
   "cell_type": "code",
   "execution_count": 176,
   "id": "45f987d7",
   "metadata": {},
   "outputs": [
    {
     "name": "stdout",
     "output_type": "stream",
     "text": [
      "4\n",
      "3\n",
      "2\n",
      "1\n",
      "0\n",
      "----------\n",
      "5\n",
      "4\n",
      "3\n",
      "2\n",
      "1\n"
     ]
    }
   ],
   "source": [
    "for i in range(5):\n",
    "    print(i)\n",
    "print()\n",
    "for i in reversed(range(5)):\n",
    "    print(i)\n",
    "\n",
    "print(\"----------\")\n",
    "list_a = [1,2,3,4,5]\n",
    "for i in reversed (list_a):\n",
    "    print(i)"
   ]
  },
  {
   "cell_type": "code",
   "execution_count": 180,
   "id": "a0cf44fa",
   "metadata": {},
   "outputs": [
    {
     "name": "stdout",
     "output_type": "stream",
     "text": [
      "5\n",
      "4\n",
      "3\n",
      "2\n",
      "1\n",
      "----------\n",
      "5\n",
      "4\n",
      "3\n",
      "2\n",
      "1\n",
      "----------\n",
      "1\n",
      "2\n",
      "3\n",
      "4\n",
      "5\n"
     ]
    }
   ],
   "source": [
    "list_a =[1,2,3,4,5]\n",
    "for i in reversed(list_a):\n",
    "    print(i)\n",
    "\n",
    "print(\"----------\")\n",
    "list_a = [1,2,3,4,5]\n",
    "for i in reversed (list_a):\n",
    "    print(i)\n",
    "print(\"----------\")\n",
    "for i in list_a:\n",
    "    print(i)"
   ]
  },
  {
   "cell_type": "code",
   "execution_count": 204,
   "id": "da5d1c20",
   "metadata": {},
   "outputs": [
    {
     "name": "stdout",
     "output_type": "stream",
     "text": [
      "55\n"
     ]
    }
   ],
   "source": [
    "# while 조건식 : -> 조건식이 True면 실행\n",
    "i = 1\n",
    "total = 0\n",
    "while i < 11:\n",
    "    total += i\n",
    "    i += 1\n",
    "print(total)"
   ]
  },
  {
   "cell_type": "code",
   "execution_count": 186,
   "id": "8d3edc50",
   "metadata": {},
   "outputs": [
    {
     "name": "stdout",
     "output_type": "stream",
     "text": [
      "[1, 1]\n"
     ]
    }
   ],
   "source": [
    "list_test = [1,2,1,2]\n",
    "value = 2\n",
    "# list_test의 값에서 2를 제거\n",
    "while value in list_test:\n",
    "    list_test.remove(value)\n",
    "    \n",
    "print(list_test)"
   ]
  },
  {
   "cell_type": "code",
   "execution_count": 205,
   "id": "1d049123",
   "metadata": {},
   "outputs": [
    {
     "data": {
      "text/plain": [
       "['q', 'abd', 'def']"
      ]
     },
     "execution_count": 205,
     "metadata": {},
     "output_type": "execute_result"
    }
   ],
   "source": [
    "list_news = ['q', '!', 'abd', 'def', '!']\n",
    "# list_news 에서 !를 제거\n",
    "value = '!'\n",
    "\n",
    "while value in list_news:\n",
    "    list_news.remove(value)\n",
    "list_news"
   ]
  },
  {
   "cell_type": "code",
   "execution_count": 206,
   "id": "263f6617",
   "metadata": {},
   "outputs": [
    {
     "name": "stdout",
     "output_type": "stream",
     "text": [
      "55\n"
     ]
    }
   ],
   "source": [
    "# 반복문에서 누적합 등을 구하고자 할 경우\n",
    "# 초기화는 반복문 시작 전에\n",
    "tot = 0\n",
    "for i in range(11):\n",
    "    tot += i\n",
    "print(tot)"
   ]
  }
 ],
 "metadata": {
  "kernelspec": {
   "display_name": "Python 3 (ipykernel)",
   "language": "python",
   "name": "python3"
  },
  "language_info": {
   "codemirror_mode": {
    "name": "ipython",
    "version": 3
   },
   "file_extension": ".py",
   "mimetype": "text/x-python",
   "name": "python",
   "nbconvert_exporter": "python",
   "pygments_lexer": "ipython3",
   "version": "3.9.12"
  }
 },
 "nbformat": 4,
 "nbformat_minor": 5
}
