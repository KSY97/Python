{
 "cells": [
  {
   "cell_type": "markdown",
   "id": "0bba774f",
   "metadata": {},
   "source": [
    "### p150\n",
    "#### 확인문제"
   ]
  },
  {
   "cell_type": "code",
   "execution_count": 9,
   "id": "24288934",
   "metadata": {},
   "outputs": [
    {
     "name": "stdout",
     "output_type": "stream",
     "text": [
      "> 1번째 숫자 : 100\n",
      "> 2번째 숫자 : 200\n",
      "\n",
      "100 + 200 = 300\n"
     ]
    }
   ],
   "source": [
    "# 1번 문제\n",
    "# 3번\n",
    "\n",
    "# # 2번 문제\n",
    "# 1번 - d\n",
    "# 2번 - b\n",
    "# 3번 - a\n",
    "# 4번 - c\n",
    "\n",
    "# 3번 문제\n",
    "a = input(\"> 1번째 숫자 : \")\n",
    "b = input(\"> 2번째 숫자 : \")\n",
    "print()\n",
    "\n",
    "print(\"{} + {} = {}\".format(a, b, int(a)+int(b)))"
   ]
  },
  {
   "cell_type": "code",
   "execution_count": 10,
   "id": "9cb42950",
   "metadata": {},
   "outputs": [
    {
     "name": "stdout",
     "output_type": "stream",
     "text": [
      "A 지점 :  hello\n",
      "B 지점 :  HELLO\n"
     ]
    }
   ],
   "source": [
    "# 4번 문제\n",
    "string = \"hello\"\n",
    "\n",
    "string.upper()\n",
    "print(\"A 지점 : \", string)\n",
    "\n",
    "print(\"B 지점 : \", string.upper())"
   ]
  },
  {
   "cell_type": "markdown",
   "id": "e07355ca",
   "metadata": {},
   "source": [
    "### p152\n",
    "#### 도전문제"
   ]
  },
  {
   "cell_type": "code",
   "execution_count": 23,
   "id": "f97f4721",
   "metadata": {},
   "outputs": [
    {
     "name": "stdout",
     "output_type": "stream",
     "text": [
      "구의 반지름을 입력해주세요 : 5\n",
      "= 구의 부피는 523.5986666666666입니다.\n",
      "= 구의 겉넓이는 314.1592입니다.\n"
     ]
    }
   ],
   "source": [
    "# 1번 문제\n",
    "pi = 3.141592\n",
    "r = input(\"구의 반지름을 입력해주세요 : \")\n",
    "r = int(r)\n",
    "print(\"= 구의 부피는 {}입니다.\".format((4 / 3) * pi * (r ** 3)))\n",
    "print(\"= 구의 겉넓이는 {}입니다.\".format(4 * pi * (r ** 2)))"
   ]
  },
  {
   "cell_type": "code",
   "execution_count": 19,
   "id": "ae133982",
   "metadata": {},
   "outputs": [
    {
     "name": "stdout",
     "output_type": "stream",
     "text": [
      "밑변의 길이를 입력해주세요 : 4.0\n",
      "높이의 길이를 입력해주세요 : 3.0\n",
      "= 빗변의 길이는 5.0입니다.\n"
     ]
    }
   ],
   "source": [
    "# 2번 문제\n",
    "x = input(\"밑변의 길이를 입력해주세요 : \")\n",
    "y = input(\"높이의 길이를 입력해주세요 : \")\n",
    "x = float(x)\n",
    "y = float(y)\n",
    "print(\"= 빗변의 길이는 {}입니다.\".format(((x ** 2)+(y ** 2)) ** (1/2)))"
   ]
  },
  {
   "cell_type": "markdown",
   "id": "97760298",
   "metadata": {},
   "source": [
    "### p174\n",
    "#### 확인문제"
   ]
  },
  {
   "cell_type": "code",
   "execution_count": 11,
   "id": "da0b47c6",
   "metadata": {},
   "outputs": [
    {
     "name": "stdout",
     "output_type": "stream",
     "text": [
      "참입니다\n"
     ]
    }
   ],
   "source": [
    "# 1번 문제\n",
    "# False\n",
    "# True\n",
    "# False\n",
    "# True\n",
    "# True\n",
    "# False\n",
    "\n",
    "# 2번 문제\n",
    "x = 10\n",
    "if x > 4:\n",
    "    print(\"참입니다\")"
   ]
  },
  {
   "cell_type": "code",
   "execution_count": 13,
   "id": "e9cebd24",
   "metadata": {},
   "outputs": [
    {
     "name": "stdout",
     "output_type": "stream",
     "text": [
      "> 1번째 숫자 : 100\n",
      "> 2번째 숫자 : 10\n",
      "\n",
      "처음 입력했던 100.0가 10.0보다 더 큽니다\n"
     ]
    }
   ],
   "source": [
    "# 3번 문제\n",
    "# 1번 a\n",
    "# 2번 a\n",
    "# 3번 o\n",
    "\n",
    "# 4번 문제\n",
    "a = float(input(\"> 1번째 숫자 : \"))\n",
    "b = float(input(\"> 2번째 숫자 : \"))\n",
    "print()\n",
    "\n",
    "if a > b:\n",
    "    print(\"처음 입력했던 {}가 {}보다 더 큽니다\".format(a, b))\n",
    "if a < b:\n",
    "    print(\"두 번째로 입력했던 {}가 {}보다 더 큽니다\".format(b, a))"
   ]
  },
  {
   "cell_type": "markdown",
   "id": "9917302c",
   "metadata": {},
   "source": [
    "### p187\n",
    "#### 확인문제"
   ]
  },
  {
   "cell_type": "code",
   "execution_count": 14,
   "id": "00fdac22",
   "metadata": {},
   "outputs": [
    {
     "name": "stdout",
     "output_type": "stream",
     "text": [
      "12\n",
      "\n",
      "5\n",
      "\n"
     ]
    }
   ],
   "source": [
    "# 1번 문제\n",
    "x = 2\n",
    "y = 10\n",
    "\n",
    "if x > 4:\n",
    "    if y > 2:\n",
    "        print(x * y)\n",
    "else:\n",
    "    print(x + y)\n",
    "    \n",
    "print()\n",
    "x = 1\n",
    "y = 4\n",
    "\n",
    "if x > 4:\n",
    "    if y > 2:\n",
    "        print(x * y)\n",
    "else:\n",
    "    print(x + y)\n",
    "    \n",
    "print()\n",
    "x = 10\n",
    "y = 2\n",
    "\n",
    "if x > 4:\n",
    "    if y > 2:\n",
    "        print(x * y)\n",
    "else:\n",
    "    print(x + y)"
   ]
  },
  {
   "cell_type": "code",
   "execution_count": 16,
   "id": "c96206d2",
   "metadata": {},
   "outputs": [],
   "source": [
    "# 2번 문제\n",
    "if 10 < x < 20:\n",
    "    print(\"조건에 맞습니다.\")"
   ]
  },
  {
   "cell_type": "code",
   "execution_count": 18,
   "id": "cec9848a",
   "metadata": {},
   "outputs": [
    {
     "name": "stdout",
     "output_type": "stream",
     "text": [
      "태어난 해를 입력해 주세요> 2022\n",
      "범 띠입니다.\n"
     ]
    }
   ],
   "source": [
    "# 3번 문제\n",
    "str_input = input(\"태어난 해를 입력해 주세요> \")\n",
    "birth_year = int(str_input)\n",
    "\n",
    "if birth_year % 12 == 0:\n",
    "    print(\"원숭이 띠입니다.\")\n",
    "elif birth_year % 12 == 1:\n",
    "    print(\"닭 띠입니다.\")\n",
    "elif birth_year % 12 == 2:\n",
    "    print(\"개 띠입니다.\")\n",
    "elif birth_year % 12 == 3:\n",
    "    print(\"돼지 띠입니다.\")\n",
    "elif birth_year % 12 == 4:\n",
    "    print(\"쥐 띠입니다.\")\n",
    "elif birth_year % 12 == 5:\n",
    "    print(\"소 띠입니다.\")\n",
    "elif birth_year % 12 == 6:\n",
    "    print(\"범 띠입니다.\")\n",
    "elif birth_year % 12 == 7:\n",
    "    print(\"토끼 띠입니다.\")\n",
    "elif birth_year % 12 == 8:\n",
    "    print(\"용 띠입니다.\")\n",
    "elif birth_year % 12 == 9:\n",
    "    print(\"뱀 띠입니다.\")\n",
    "elif birth_year % 12 == 10:\n",
    "    print(\"말 띠입니다.\")\n",
    "elif birth_year % 12 == 11:\n",
    "    print(\"양 띠입니다.\")\n"
   ]
  },
  {
   "cell_type": "markdown",
   "id": "8a601441",
   "metadata": {},
   "source": [
    "### p188\n",
    "#### 도전문제"
   ]
  },
  {
   "cell_type": "code",
   "execution_count": 49,
   "id": "1a08e646",
   "metadata": {},
   "outputs": [
    {
     "name": "stdout",
     "output_type": "stream",
     "text": [
      "입력 : 지금 몇 시야?\n",
      "> 지금은 15시입니다\n"
     ]
    }
   ],
   "source": [
    "# 1번 문제\n",
    "import datetime\n",
    "\n",
    "list_str = [ [\"안녕\", \"안녕하세요\"],\n",
    "            [\"지금 몇 시야?\", \"지금 몇 시예요?\"]]\n",
    "now = datetime.datetime.now()\n",
    "\n",
    "input_str = input(\"입력 : \")\n",
    "if input_str in list_str[0]:\n",
    "    print(\"> 안녕하세요.\")\n",
    "elif input_str in list_str[1]:\n",
    "    print(\"> 지금은 {}시입니다\".format(now.hour))\n",
    "else:\n",
    "    print(\"> {}\".format(input_str))"
   ]
  },
  {
   "cell_type": "code",
   "execution_count": 55,
   "id": "c3115d5b",
   "metadata": {},
   "outputs": [
    {
     "name": "stdout",
     "output_type": "stream",
     "text": [
      "정수를 입력해주세요 : 273\n",
      "273은 2로 나누어 떨어지는 숫자가 아닙니다.\n",
      "273은 3로 나누어 떨어지는 숫자입니다.\n",
      "273은 4로 나누어 떨어지는 숫자가 아닙니다.\n",
      "273은 5로 나누어 떨어지는 숫자가 아닙니다.\n"
     ]
    }
   ],
   "source": [
    "# 2번 문제\n",
    "input_num = input(\"정수를 입력해주세요 : \")\n",
    "input_num = int(input_num)\n",
    "num_list = [2,3,4,5]\n",
    "for value in num_list:\n",
    "    if input_num % value == 0:\n",
    "        print(\"{}은 {}로 나누어 떨어지는 숫자입니다.\".format(input_num, value))\n",
    "    else:\n",
    "        print(\"{}은 {}로 나누어 떨어지는 숫자가 아닙니다.\".format(input_num, value))\n",
    "\n",
    "# if input_num % 2 == 0:\n",
    "#     print(\"{}은 2로 나누어 떨어지는 숫자입니다.\".format(input_num))\n",
    "# else:\n",
    "#     print(\"{}은 2로 나누어 떨어지는 숫자가 아닙니다.\".format(input_num))\n",
    "\n",
    "# if input_num % 3 == 0:\n",
    "#     print(\"{}은 3로 나누어 떨어지는 숫자입니다.\".format(input_num))\n",
    "# else:\n",
    "#     print(\"{}은 3로 나누어 떨어지는 숫자가 아닙니다.\".format(input_num))\n",
    "\n",
    "# if input_num % 4 == 0:\n",
    "#     print(\"{}은 4로 나누어 떨어지는 숫자입니다.\".format(input_num))\n",
    "# else:\n",
    "#     print(\"{}은 4로 나누어 떨어지는 숫자가 아닙니다.\".format(input_num))\n",
    "    \n",
    "# if input_num % 5 == 0:\n",
    "#     print(\"{}은 5로 나누어 떨어지는 숫자입니다.\".format(input_num))\n",
    "# else:\n",
    "#     print(\"{}은 5로 나누어 떨어지는 숫자가 아닙니다.\".format(input_num))\n",
    "\n"
   ]
  },
  {
   "cell_type": "markdown",
   "id": "c2e0fada",
   "metadata": {},
   "source": [
    "### p213\n",
    "#### 확인문제"
   ]
  },
  {
   "cell_type": "code",
   "execution_count": 33,
   "id": "2a54c39c",
   "metadata": {},
   "outputs": [
    {
     "name": "stdout",
     "output_type": "stream",
     "text": [
      "[0, 1, 2, 4, 5, 6, 7]\n",
      "[]\n"
     ]
    }
   ],
   "source": [
    "# 1번 문제\n",
    "# [0, 1, 2, 3, 4, 5, 6, 7, 0, 1, 2, 3, 4, 5, 6, 7]\n",
    "# [0, 1, 2, 3, 4, 5, 6, 7, 10]\n",
    "# [0, 1, 2, 0, 3, 4, 5, 6, 7]\n",
    "# [0, 1, 2, 4, 5, 6, 7]\n",
    "# [0, 1, 2, 4, 5, 6, 7]\n",
    "# []"
   ]
  },
  {
   "cell_type": "code",
   "execution_count": 19,
   "id": "0f620290",
   "metadata": {},
   "outputs": [
    {
     "name": "stdout",
     "output_type": "stream",
     "text": [
      "- 100 이상의 수 :  273\n",
      "- 100 이상의 수 :  103\n",
      "- 100 이상의 수 :  800\n"
     ]
    }
   ],
   "source": [
    "# 2번 문제\n",
    "numbers = [273, 103, 5, 32, 65, 9, 72, 800, 99]\n",
    "\n",
    "for number in numbers:\n",
    "    if number > 100:\n",
    "        print(\"- 100 이상의 수 : \", number)"
   ]
  },
  {
   "cell_type": "code",
   "execution_count": 22,
   "id": "626fd643",
   "metadata": {},
   "outputs": [
    {
     "name": "stdout",
     "output_type": "stream",
     "text": [
      "273 는 홀수입니다.\n",
      "103 는 홀수입니다.\n",
      "5 는 홀수입니다.\n",
      "32 는 짝수입니다.\n",
      "65 는 홀수입니다.\n",
      "9 는 홀수입니다.\n",
      "72 는 짝수입니다.\n",
      "800 는 짝수입니다.\n",
      "99 는 홀수입니다.\n",
      "\n",
      "273 는 3 자릿수입니다.\n",
      "103 는 3 자릿수입니다.\n",
      "5 는 1 자릿수입니다.\n",
      "32 는 2 자릿수입니다.\n",
      "65 는 2 자릿수입니다.\n",
      "9 는 1 자릿수입니다.\n",
      "72 는 2 자릿수입니다.\n",
      "800 는 3 자릿수입니다.\n",
      "99 는 2 자릿수입니다.\n"
     ]
    }
   ],
   "source": [
    "# 3번 문제\n",
    "numbers = [273, 103, 5, 32, 65, 9, 72, 800, 99]\n",
    "\n",
    "for number in numbers:\n",
    "    if (number % 2) == 1:\n",
    "        print(\"{} 는 홀수입니다.\".format(number))\n",
    "    else:\n",
    "        print(\"{} 는 짝수입니다.\".format(number))\n",
    "print()\n",
    "\n",
    "for number in numbers:\n",
    "    print(\"{} 는 {} 자릿수입니다.\".format(number, len(str(number))))"
   ]
  },
  {
   "cell_type": "code",
   "execution_count": 9,
   "id": "499beaca",
   "metadata": {},
   "outputs": [
    {
     "name": "stdout",
     "output_type": "stream",
     "text": [
      "[[1, 4, 7], [2, 5, 8], [3, 6, 9]]\n"
     ]
    }
   ],
   "source": [
    "# 4번 문제\n",
    "numbers = [1, 2, 3, 4, 5, 6, 7, 8, 9]\n",
    "output = [[], [], []]\n",
    "\n",
    "for number in numbers:\n",
    "    output[(number-1)%3].append(number)\n",
    "    \n",
    "print(output)\n"
   ]
  },
  {
   "cell_type": "code",
   "execution_count": 24,
   "id": "e0d20145",
   "metadata": {},
   "outputs": [
    {
     "name": "stdout",
     "output_type": "stream",
     "text": [
      "i = 0, j = 1\n",
      "i = 1, j = 3\n",
      "i = 2, j = 5\n",
      "i = 3, j = 7\n",
      "[1, 4, 3, 16, 5, 36, 7, 64, 9]\n"
     ]
    }
   ],
   "source": [
    "# 5번 문제\n",
    "numbers = [1, 2, 3, 4, 5, 6, 7, 8, 9]\n",
    "\n",
    "for i in range(0, len(numbers) // 2): # 0 1 2 3 \n",
    "    j =  (i * 2) + 1\n",
    "    print(f\"i = {i}, j = {j}\")\n",
    "    numbers[j] = numbers[j] ** 2\n",
    "\n",
    "print(numbers)\n"
   ]
  },
  {
   "cell_type": "code",
   "execution_count": null,
   "id": "7c91ee62",
   "metadata": {},
   "outputs": [],
   "source": [
    "# 3 + 4 -> 7 계산기 프로그램 작성\n",
    "# 반복해서 작성\n",
    "# 첫 문자에 'q'가 입력되면 프로그램 종료\n",
    "\n",
    "input_list = []\n",
    "\n",
    "while True:\n",
    "    input_data = input(\"계산식을 입력하세요(ex:10 + 20)(q를 누르면 종료) : \")\n",
    "    input_list = input_data.split()\n",
    "    \n",
    "    if input_list[0] == 'q':\n",
    "        print(\"프로그램을 종료합니다.\")\n",
    "        break\n",
    "    \n",
    "    x = int(input_list[0])\n",
    "    y = int(input_list[2])\n",
    "\n",
    "    if input_list[1] == '+':\n",
    "        print(\"{} {} {} = {}\".format(x, \"+\", y, x+y))\n",
    "    elif input_list[1] == '-':\n",
    "        print(\"{} {} {} = {}\".format(x, \"-\", y, x-y))\n",
    "    elif input_list[1] == '*':\n",
    "        print(\"{} {} {} = {}\".format(x, \"*\", y, x*y))\n",
    "    elif input_list[1] == '/':\n",
    "        print(\"{} {} {} = {}\".format(x, \"/\", y, x/y))\n",
    "    else:\n",
    "        print(\"잘못 입력하셨습니다.\")\n"
   ]
  }
 ],
 "metadata": {
  "kernelspec": {
   "display_name": "Python 3 (ipykernel)",
   "language": "python",
   "name": "python3"
  },
  "language_info": {
   "codemirror_mode": {
    "name": "ipython",
    "version": 3
   },
   "file_extension": ".py",
   "mimetype": "text/x-python",
   "name": "python",
   "nbconvert_exporter": "python",
   "pygments_lexer": "ipython3",
   "version": "3.9.12"
  }
 },
 "nbformat": 4,
 "nbformat_minor": 5
}
