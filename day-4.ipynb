{
 "cells": [
  {
   "cell_type": "code",
   "execution_count": 16,
   "id": "cd786912",
   "metadata": {},
   "outputs": [
    {
     "name": "stdout",
     "output_type": "stream",
     "text": [
      "reversed_nums :  <list_reverseiterator object at 0x0000018310E53FA0>\n",
      "6\n",
      "5\n",
      "4\n",
      "3\n",
      "2\n",
      "1\n"
     ]
    }
   ],
   "source": [
    "# 이터레이터\n",
    "nums = [1,2,3,4,5,6]\n",
    "\n",
    "r_nums = reversed(nums)\n",
    "\n",
    "print(\"reversed_nums : \", r_nums)\n",
    "print(next(r_nums))\n",
    "print(next(r_nums))\n",
    "print(next(r_nums))\n",
    "print(next(r_nums))\n",
    "print(next(r_nums))\n",
    "print(next(r_nums))\n"
   ]
  },
  {
   "cell_type": "markdown",
   "id": "37c80a45",
   "metadata": {},
   "source": [
    "## chap5.함수"
   ]
  },
  {
   "cell_type": "code",
   "execution_count": 22,
   "id": "a08906e1",
   "metadata": {},
   "outputs": [
    {
     "name": "stdout",
     "output_type": "stream",
     "text": [
      "hello\n",
      "hello\n",
      "hello\n"
     ]
    }
   ],
   "source": [
    "# 함수 만들기 : def 함수명():\n",
    "\n",
    "# 매개변수가 없는 함수\n",
    "def print_3_times():\n",
    "    print(\"hello\")\n",
    "    print(\"hello\")\n",
    "    print(\"hello\")\n",
    "    \n",
    "print_3_times()"
   ]
  },
  {
   "cell_type": "code",
   "execution_count": 28,
   "id": "53f5a624",
   "metadata": {},
   "outputs": [
    {
     "name": "stdout",
     "output_type": "stream",
     "text": [
      "test\n",
      "test\n",
      "test\n",
      "test\n"
     ]
    }
   ],
   "source": [
    "# 매개변수가 있는 함수\n",
    "def print_n_times(value, n):\n",
    "#     i = 0\n",
    "#     while i < n:\n",
    "#         print(value)\n",
    "#         i += 1\n",
    "    for i in range(n):\n",
    "        print(value)\n",
    "        \n",
    "print_n_times('test', 4)"
   ]
  },
  {
   "cell_type": "code",
   "execution_count": 33,
   "id": "de78b962",
   "metadata": {},
   "outputs": [
    {
     "name": "stdout",
     "output_type": "stream",
     "text": [
      "test\n",
      "hello\n",
      "python\n",
      "\n",
      "test\n",
      "hello\n",
      "python\n",
      "\n"
     ]
    }
   ],
   "source": [
    "# 가변 매개변수 : 함수명(매개변수, *변수명)\n",
    "def print_n_var_times(n, *values):\n",
    "    for i in range(n):\n",
    "        for value in values:\n",
    "            print(value)\n",
    "        print()\n",
    "\n",
    "print_n_var_times(2,'test', 'hello', 'python')"
   ]
  },
  {
   "cell_type": "code",
   "execution_count": 37,
   "id": "3af65855",
   "metadata": {},
   "outputs": [
    {
     "name": "stdout",
     "output_type": "stream",
     "text": [
      "test\n",
      "test\n",
      "\n",
      "test\n",
      "test\n",
      "test\n",
      "test\n",
      "test\n",
      "\n"
     ]
    }
   ],
   "source": [
    "# 기본 매개변수 : 함수명(매개변수, 기본매개변수 = 값)\n",
    "def print_n_time(value, n=2):\n",
    "    for i in range(n):\n",
    "        print(value)\n",
    "    print()\n",
    "\n",
    "print_n_time('test')\n",
    "print_n_time('test', 5)"
   ]
  },
  {
   "cell_type": "code",
   "execution_count": 47,
   "id": "7a4b071d",
   "metadata": {},
   "outputs": [
    {
     "name": "stdout",
     "output_type": "stream",
     "text": [
      "test\n",
      "hello\n",
      "python2\n",
      "\n",
      "test\n",
      "hello\n",
      "python2\n",
      "\n",
      "test\n",
      "hello\n",
      "python2\n",
      "\n"
     ]
    }
   ],
   "source": [
    "# 기본 매개변수와 가변 매개변수가 같이오는 경우\n",
    "def print_n_var_time(*values, n=2):\n",
    "    for i in range(n):\n",
    "        for value in values:\n",
    "            print(value)\n",
    "        print()\n",
    "\n",
    "print_n_var_time('test', 'hello', 'python2', n = 3)"
   ]
  },
  {
   "cell_type": "code",
   "execution_count": 56,
   "id": "008c7015",
   "metadata": {},
   "outputs": [
    {
     "name": "stdout",
     "output_type": "stream",
     "text": [
      "31\n",
      "220\n",
      "210\n"
     ]
    }
   ],
   "source": [
    "# 일반 매개변수, 가변 매개변수, 키워드 매개변수 순서로\n",
    "def test_func(a, b=10, c=20):\n",
    "    print(a+b+c)\n",
    "\n",
    "test_func(1)\n",
    "test_func(c = 100, b = 20, a = 100)\n",
    "test_func(c = 100, a = 100)"
   ]
  },
  {
   "cell_type": "code",
   "execution_count": 59,
   "id": "53f0f071",
   "metadata": {},
   "outputs": [
    {
     "name": "stdout",
     "output_type": "stream",
     "text": [
      "130\n"
     ]
    }
   ],
   "source": [
    "def test_func1(a, b=10, c=20):\n",
    "    return (a+b+c)\n",
    "print(test_func1(100))"
   ]
  },
  {
   "cell_type": "code",
   "execution_count": 61,
   "id": "d4a24b3c",
   "metadata": {},
   "outputs": [
    {
     "name": "stdout",
     "output_type": "stream",
     "text": [
      "0부터 100까지 합을 구함: 5050\n",
      "0부터 100까지 짝수의 합을 구함: 2550\n",
      "0부터 100까지 홀수의 합을 구함: 2500\n"
     ]
    }
   ],
   "source": [
    "# start, stop, step을 이용하여 합을 구하는 함수 작성\n",
    "def sum_func(start=0, stop=100, step=1):\n",
    "    total = 0\n",
    "    for i in range(start, stop+1, step):\n",
    "        total += i\n",
    "    return total\n",
    "\n",
    "print(\"0부터 100까지 합을 구함:\",sum_func())\n",
    "print(\"0부터 100까지 짝수의 합을 구함:\",sum_func(step=2))\n",
    "print(\"0부터 100까지 홀수의 합을 구함:\",sum_func(start=1, step=2))"
   ]
  },
  {
   "cell_type": "code",
   "execution_count": 64,
   "id": "aaa77176",
   "metadata": {},
   "outputs": [],
   "source": [
    "# 자신을 호출 : 재귀함수\n",
    "# 팩토리얼\n",
    "def fac_func(n) :\n",
    "    if n == 0:\n",
    "        return 1\n",
    "    else:\n",
    "        return n* fac_func(n-1)\n",
    "fac_func(14)"
   ]
  },
  {
   "cell_type": "code",
   "execution_count": 68,
   "id": "8de8bc35",
   "metadata": {},
   "outputs": [],
   "source": [
    "# 피보나치를 구하는 함수 작성 : fibo(n) =fibo(n-1)+fibo(n-2),, n==1 or 2면 \n",
    "def fibo(n):\n",
    "    if n==1 or n==2 :\n",
    "        return 1\n",
    "    else:\n",
    "        return fibo(n-1)+fibo(n-2)"
   ]
  },
  {
   "cell_type": "code",
   "execution_count": 75,
   "id": "041b6852",
   "metadata": {},
   "outputs": [
    {
     "data": {
      "text/plain": [
       "832040"
      ]
     },
     "execution_count": 75,
     "metadata": {},
     "output_type": "execute_result"
    }
   ],
   "source": [
    "cnt = 0\n",
    "fibo(30)"
   ]
  },
  {
   "cell_type": "code",
   "execution_count": 2,
   "id": "758d7a73",
   "metadata": {},
   "outputs": [],
   "source": [
    "# 메모화 : 메모 변수를 생성\n",
    "dict_num = {1:1, 2:1}\n",
    "\n",
    "def fibo_mem(n):\n",
    "\n",
    "    if n in dict_num:\n",
    "        return dict_num[n]\n",
    "    else:\n",
    "        output = fibo_mem(n-1) + fibo_mem(n-2)\n",
    "        dict_num[n] = output\n",
    "        return output\n",
    "    "
   ]
  },
  {
   "cell_type": "code",
   "execution_count": 7,
   "id": "41c077da",
   "metadata": {},
   "outputs": [
    {
     "data": {
      "text/plain": [
       "12586269025"
      ]
     },
     "execution_count": 7,
     "metadata": {},
     "output_type": "execute_result"
    }
   ],
   "source": [
    "fibo_mem(50)"
   ]
  },
  {
   "cell_type": "code",
   "execution_count": 9,
   "id": "1afeccec",
   "metadata": {},
   "outputs": [
    {
     "name": "stdout",
     "output_type": "stream",
     "text": [
      "10\n",
      "20 10\n"
     ]
    }
   ],
   "source": [
    "# 함수 고급 : tuple -> (), lambda 함수\n",
    "(a, b) = (10, 20)\n",
    "print(a)\n",
    "\n",
    "b, a = a, b\n",
    "print(a,b)"
   ]
  },
  {
   "cell_type": "code",
   "execution_count": 11,
   "id": "0e9c5300",
   "metadata": {},
   "outputs": [
    {
     "name": "stdout",
     "output_type": "stream",
     "text": [
      "10 20\n"
     ]
    }
   ],
   "source": [
    "def test():\n",
    "    return 10, 20\n",
    "\n",
    "a,b = test()\n",
    "print(a,b)"
   ]
  },
  {
   "cell_type": "code",
   "execution_count": 16,
   "id": "a763561f",
   "metadata": {},
   "outputs": [
    {
     "name": "stdout",
     "output_type": "stream",
     "text": [
      "0번째의 값 1\n",
      "1번째의 값 2\n",
      "2번째의 값 3\n",
      "3번째의 값 4\n"
     ]
    }
   ],
   "source": [
    "# tuple -> a_tuple = (10, 20, 30) -> 자료의 수정 불가\n",
    "a_tuple = (1, 2, 3, 4)\n",
    "for i, value in enumerate(a_tuple):\n",
    "    print(\"{}번째의 값 {}\".format(i,value))\n",
    "# a_tuple[0] = 10 error! tuple은 자료 수정 불가"
   ]
  },
  {
   "cell_type": "code",
   "execution_count": 23,
   "id": "83b20c15",
   "metadata": {},
   "outputs": [
    {
     "name": "stdout",
     "output_type": "stream",
     "text": [
      "Hello\n",
      "Hello\n",
      "Hello\n",
      "Hello\n",
      "Hello\n"
     ]
    }
   ],
   "source": [
    "# 람다 : lambda\n",
    "# 함수의 매개변수로 함수명 전달\n",
    "def call_5_times(func):\n",
    "    for i in range(5):\n",
    "        func()\n",
    "\n",
    "def print_hello():\n",
    "    print('Hello')\n",
    "    \n",
    "call_5_times(print_hello)"
   ]
  },
  {
   "cell_type": "code",
   "execution_count": 30,
   "id": "f0802c62",
   "metadata": {},
   "outputs": [
    {
     "name": "stdout",
     "output_type": "stream",
     "text": [
      "[1, 4, 9, 16, 25]\n",
      "[1, 2]\n"
     ]
    }
   ],
   "source": [
    "def power(item):\n",
    "    return item * item\n",
    "def under_3(item):\n",
    "    return item < 3\n",
    "# map(함수명, 리스트) -> 리스트의 값들을 하나씩 함수에 적용\n",
    "# filter(함수명, 리스트) -> 함수의 리턴값이 True인 자료만 추출\n",
    "input_list = [1,2,3,4,5]\n",
    "\n",
    "output = map(power, input_list)\n",
    "print(list(output))\n",
    "\n",
    "print(list(filter(under_3, input_list)))"
   ]
  },
  {
   "cell_type": "code",
   "execution_count": 36,
   "id": "83fed5a1",
   "metadata": {},
   "outputs": [
    {
     "name": "stdout",
     "output_type": "stream",
     "text": [
      "[1, 4, 9, 16, 25]\n",
      "[1, 2]\n"
     ]
    }
   ],
   "source": [
    "# lambda 매개변수:리턴값\n",
    "input_list = [1,2,3,4,5]\n",
    "\n",
    "output = map(lambda x:x*x, input_list)\n",
    "print(list(output))\n",
    "\n",
    "print(list(filter(lambda x:x<3, input_list)))"
   ]
  },
  {
   "cell_type": "code",
   "execution_count": 42,
   "id": "e937c1f1",
   "metadata": {},
   "outputs": [
    {
     "name": "stderr",
     "output_type": "stream",
     "text": [
      "하위 디렉터리 또는 파일 dataset이(가) 이미 있습니다.\n"
     ]
    }
   ],
   "source": [
    "# 파일 처리 : open(), file.write(), file.close(), file.read()\n",
    "# 현재 경로에서 새로운 디럭터리 dataset을 생성\n",
    "# dataset 안에 새로운 파일 test, txt 파일을 생성\n",
    "# test.txt 파일에 'hello python programming'을 작성하고 파일 close()\n",
    "!mkdir dataset\n",
    "\n",
    "file = open(\"./dataset/test.txt\", 'w')\n",
    "file.write('hello python programming')\n",
    "file.close()"
   ]
  },
  {
   "cell_type": "code",
   "execution_count": 48,
   "id": "a2899387",
   "metadata": {},
   "outputs": [
    {
     "name": "stdout",
     "output_type": "stream",
     "text": [
      "hello python programming\n"
     ]
    }
   ],
   "source": [
    "file = open('./dataset/test.txt', 'r')\n",
    "contents = file.read()\n",
    "print(contents)\n",
    "file.close()"
   ]
  },
  {
   "cell_type": "code",
   "execution_count": 51,
   "id": "0953658e",
   "metadata": {},
   "outputs": [
    {
     "name": "stdout",
     "output_type": "stream",
     "text": [
      "hello python programming\n"
     ]
    }
   ],
   "source": [
    "# file open with와 같이 사용 -> with 종료시 자동으로 파일 close가 됨\n",
    "with open('./dataset/test.txt', 'r') as file:\n",
    "    contents = file.read()\n",
    "print(contents)"
   ]
  },
  {
   "cell_type": "code",
   "execution_count": 53,
   "id": "09f8f09b",
   "metadata": {},
   "outputs": [
    {
     "data": {
      "text/plain": [
       "'C:\\\\Users\\\\HPE\\\\Desktop\\\\python-src\\\\220628'"
      ]
     },
     "execution_count": 53,
     "metadata": {},
     "output_type": "execute_result"
    }
   ],
   "source": [
    "import os\n",
    "os.getcwd()"
   ]
  },
  {
   "cell_type": "code",
   "execution_count": 64,
   "id": "ae7c7955",
   "metadata": {},
   "outputs": [
    {
     "name": "stdout",
     "output_type": "stream",
     "text": [
      "main start\n",
      "First \n",
      "1\n",
      "Second \n",
      "2\n"
     ]
    }
   ],
   "source": [
    "# 제너레이터 함수 작성 : 함수 내부에 yield 키워드를 사용\n",
    "def gen_test():\n",
    "    print('First ')\n",
    "    yield 1\n",
    "    \n",
    "    print('Second ')\n",
    "    yield 2\n",
    "\n",
    "    print('Third ')\n",
    "    \n",
    "o_func = gen_test()\n",
    "    \n",
    "print(\"main start\")\n",
    "a = next(o_func)\n",
    "print(a)\n",
    "a = next(o_func)\n",
    "print(a)"
   ]
  },
  {
   "cell_type": "code",
   "execution_count": 68,
   "id": "a5444145",
   "metadata": {},
   "outputs": [
    {
     "name": "stdout",
     "output_type": "stream",
     "text": [
      "가장 저렴한 책\n",
      "{'제목': '혼공파', '가격': 18000}\n",
      "가장 비싼 책\n",
      "{'제목': '혼공머', '가격': 26000}\n"
     ]
    }
   ],
   "source": [
    "books = [{\n",
    "    \"제목\":\"혼공파\",\n",
    "    \"가격\": 18000\n",
    "}, {\n",
    "    \"제목\":\"혼공머\",\n",
    "    \"가격\": 26000\n",
    "}, {\n",
    "    \"제목\":\"혼공자\",\n",
    "    \"가격\": 24000\n",
    "}]\n",
    "\n",
    "print(\"가장 저렴한 책\")\n",
    "print(min(books, key = lambda book:book[\"가격\"]))\n",
    "\n",
    "print(\"가장 비싼 책\")\n",
    "print(max(books, key = lambda book:book[\"가격\"]))"
   ]
  },
  {
   "cell_type": "code",
   "execution_count": 74,
   "id": "40145e8d",
   "metadata": {},
   "outputs": [
    {
     "name": "stdout",
     "output_type": "stream",
     "text": [
      "[1, 100, 3, 4, 5]\n",
      "[1, 2, 3, 4, 5]\n",
      "[1, 100, 3, 4, 5]\n"
     ]
    }
   ],
   "source": [
    "a = [1,2,3,4,5]\n",
    "b = a\n",
    "b[1] = 100\n",
    "print(a)\n",
    "a = [1,2,3,4,5]\n",
    "c = a.copy()\n",
    "c[1] = 100\n",
    "print(a)\n",
    "print(c)"
   ]
  },
  {
   "cell_type": "markdown",
   "id": "c181149d",
   "metadata": {},
   "source": [
    "## chap6. 예외처리"
   ]
  },
  {
   "cell_type": "code",
   "execution_count": 78,
   "id": "4d9e4184",
   "metadata": {},
   "outputs": [
    {
     "name": "stdout",
     "output_type": "stream",
     "text": [
      "정수 입력 \n",
      "정수가 아님\n"
     ]
    }
   ],
   "source": [
    "## 실행 오류 : try ~ except ~ else ~ finally\n",
    "# 실행 오류가 발생할 수 있는 코드 작성\n",
    "try:\n",
    "    input_num = int(input(\"정수 입력\"))\n",
    "    \n",
    "    print(\"원의 반지름 : \", input_num)\n",
    "    print(\"원의 둘레 : \"), input_num * 2 * 3.14\n",
    "except:\n",
    "    print(\"정수가 아님\")\n",
    "\n",
    "    "
   ]
  },
  {
   "cell_type": "code",
   "execution_count": 79,
   "id": "9d189722",
   "metadata": {},
   "outputs": [
    {
     "name": "stdout",
     "output_type": "stream",
     "text": [
      "정수 입력1\n",
      "원의 반지름 :  1\n",
      "원의 둘레 : \n"
     ]
    }
   ],
   "source": [
    "# try :\n",
    "#     예외 발생 코드\n",
    "# except:\n",
    "#    예외 발생 코드\n",
    "# else:\n",
    "#    정상 작동시 실행코드\n",
    "\n",
    "try:\n",
    "    input_num = int(input(\"정수 입력\"))\n",
    "    \n",
    "    print(\"원의 반지름 : \", input_num)\n",
    "    print(\"원의 둘레 : \"), input_num * 2 * 3.14\n",
    "except:\n",
    "    print(\"정수가 아님\")\n",
    "\n",
    "    "
   ]
  },
  {
   "cell_type": "code",
   "execution_count": null,
   "id": "3121f39e",
   "metadata": {},
   "outputs": [],
   "source": []
  },
  {
   "cell_type": "code",
   "execution_count": 80,
   "id": "2a485954",
   "metadata": {},
   "outputs": [
    {
     "ename": "SyntaxError",
     "evalue": "invalid syntax (3966545737.py, line 4)",
     "output_type": "error",
     "traceback": [
      "\u001b[1;36m  Input \u001b[1;32mIn [80]\u001b[1;36m\u001b[0m\n\u001b[1;33m    file = open(./dataset//,)\u001b[0m\n\u001b[1;37m                ^\u001b[0m\n\u001b[1;31mSyntaxError\u001b[0m\u001b[1;31m:\u001b[0m invalid syntax\n"
     ]
    }
   ],
   "source": [
    "#file 처리시 예외처리 응용\n",
    "\n",
    "try :\n",
    "    file = open(./dataset//,)\n",
    "    input_data = input(\"이름 성적 입력\").split*()\n",
    "    score = int(input_data[1])\n",
    "    file.write(\"input_data\"+ str(score))\n",
    "except Exception as e:\n",
    "    printt(\"입력 자료 검중 : \",e)\n",
    "    "
   ]
  },
  {
   "cell_type": "code",
   "execution_count": 81,
   "id": "092e45d6",
   "metadata": {},
   "outputs": [],
   "source": [
    "def test_func():\n",
    "    try : \n",
    "        print(\"try 구문 실행\")\n",
    "        return\n",
    "    except:\n",
    "        print(\"except 구문 실행\")\n",
    "    else:\n",
    "        print(\"else 구문 실행\")\n",
    "    finally:\n",
    "        print(\"try end!\")"
   ]
  }
 ],
 "metadata": {
  "kernelspec": {
   "display_name": "Python 3 (ipykernel)",
   "language": "python",
   "name": "python3"
  },
  "language_info": {
   "codemirror_mode": {
    "name": "ipython",
    "version": 3
   },
   "file_extension": ".py",
   "mimetype": "text/x-python",
   "name": "python",
   "nbconvert_exporter": "python",
   "pygments_lexer": "ipython3",
   "version": "3.9.12"
  }
 },
 "nbformat": 4,
 "nbformat_minor": 5
}
