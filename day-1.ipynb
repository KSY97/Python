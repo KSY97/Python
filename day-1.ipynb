{
 "cells": [
  {
   "cell_type": "markdown",
   "id": "2ab09094",
   "metadata": {},
   "source": [
    "#### p.077\n",
    "##### output.py"
   ]
  },
  {
   "cell_type": "code",
   "execution_count": 33,
   "id": "7417b9f9",
   "metadata": {},
   "outputs": [
    {
     "name": "stdout",
     "output_type": "stream",
     "text": [
      "# 하나만 출력합니다.\n",
      "Hello Python Programming\n",
      "\n",
      "# 여러 개를 출력합니다.\n",
      "10 20 30 40 50\n",
      "안녕하세요 저의 이름은 권순용입니다!\n",
      "\n",
      "# 아무것도 입력하지 않으면 단순하게 줄바꿈합니다.\n",
      "---확인전용선---\n",
      "\n",
      "\n",
      "---확인전용선---\n"
     ]
    }
   ],
   "source": [
    "# 하나만 출력합니다.\n",
    "print(\"# 하나만 출력합니다.\")\n",
    "print(\"Hello Python Programming\")\n",
    "print()\n",
    "\n",
    "# 여러 개를 출력합니다.\n",
    "print(\"# 여러 개를 출력합니다.\")\n",
    "print(10, 20, 30, 40, 50)\n",
    "print(\"안녕하세요\", \"저의\", \"이름은\", \"권순용입니다!\")\n",
    "print()\n",
    "\n",
    "# 아무것도 입력하지 않으면 단순하게 줄바꿈합니다.\n",
    "print(\"# 아무것도 입력하지 않으면 단순하게 줄바꿈합니다.\")\n",
    "print(\"---확인전용선---\")\n",
    "print()\n",
    "print()\n",
    "print(\"---확인전용선---\")\n",
    "# exam end"
   ]
  },
  {
   "cell_type": "code",
   "execution_count": null,
   "id": "eec72d46",
   "metadata": {},
   "outputs": [],
   "source": [
    "# 키워드 imort keword -> keyword.keylist 에서 확인\n",
    "# 식별자 : 문자 시작, _가능, 숫자시작X, 공백X, 키워드X\n",
    "# 식별자 작성 규칙 : 캐멀, 스네이크, 함수는()"
   ]
  },
  {
   "cell_type": "markdown",
   "id": "63c9691b",
   "metadata": {},
   "source": [
    "## chapter02 자료형\n",
    "### 01.자료형과 문자열"
   ]
  },
  {
   "cell_type": "code",
   "execution_count": 18,
   "id": "7a39613a",
   "metadata": {},
   "outputs": [
    {
     "name": "stdout",
     "output_type": "stream",
     "text": [
      "문자열의 데이터 타입 :  <class 'str'>\n",
      "숫자의 데이터 타입 :  <class 'int'> <class 'float'>\n",
      "불의 데이터 타입 :  <class 'bool'>\n"
     ]
    }
   ],
   "source": [
    "# python의 자료형 : 문자열, 숫자, 불\n",
    "print('문자열의 데이터 타입 : ', type('문자열'))\n",
    "print('숫자의 데이터 타입 : ', type(10), type(10.0))\n",
    "print('불의 데이터 타입 : ', type(True))"
   ]
  },
  {
   "cell_type": "code",
   "execution_count": null,
   "id": "1f3bbc2e",
   "metadata": {},
   "outputs": [],
   "source": [
    "#\"\" ''를 출력하고싶을때\n",
    "print('\"안녕하세요!\"')\n",
    "print(\"'안녕하세요!'\")\n",
    "# 이스케이프 문자를 활용하여 문자열 만들기 : \\\" -> \"\n",
    "print(\"\\\"안녕하세요!\\\"\")\n",
    "# \\t : 탭, \\n :다음라인\n",
    "print(\"\\\"안녕\\t하세요\\n!\\\"\")"
   ]
  },
  {
   "cell_type": "markdown",
   "id": "da66f7d3",
   "metadata": {},
   "source": [
    "#### p.090\n",
    "##### string_operator.py"
   ]
  },
  {
   "cell_type": "code",
   "execution_count": 25,
   "id": "be5c3598",
   "metadata": {},
   "outputs": [
    {
     "name": "stdout",
     "output_type": "stream",
     "text": [
      "이름\t나이\t지역\n",
      "윤인성\t25\t강서구\n",
      "윤아린\t24\t강서구\n",
      "구름\t3\t강서구\n"
     ]
    }
   ],
   "source": [
    "print(\"이름\\t나이\\t지역\")\n",
    "print(\"윤인성\\t25\\t강서구\")\n",
    "print(\"윤아린\\t24\\t강서구\")\n",
    "print(\"구름\\t3\\t강서구\")"
   ]
  },
  {
   "cell_type": "code",
   "execution_count": 33,
   "id": "da8bc7f1",
   "metadata": {},
   "outputs": [
    {
     "name": "stdout",
     "output_type": "stream",
     "text": [
      "1라인\n",
      "2라인\n",
      "\n",
      "1라인\n",
      "2라인\n"
     ]
    }
   ],
   "source": [
    "# 여러 라인의 문자를 출력하기\n",
    "print(\"1라인\\n2라인\")\n",
    "print()\n",
    "print(\"\"\"1라인\n",
    "2라인\"\"\")\n",
    "#exam end"
   ]
  },
  {
   "cell_type": "code",
   "execution_count": 32,
   "id": "744cc881",
   "metadata": {},
   "outputs": [
    {
     "name": "stdout",
     "output_type": "stream",
     "text": [
      "안녕하세요!!              \n",
      "알파벳 a 10\n"
     ]
    }
   ],
   "source": [
    "# 명령어가 1라인 이상으로 길어질 때는 \\\n",
    "print(\"안녕하세요!!              \\\n",
    "\")\n",
    "print(\"알파벳\",\n",
    "     \"a\",\n",
    "     10) #이렇게도 가능"
   ]
  },
  {
   "cell_type": "code",
   "execution_count": 4,
   "id": "2efea0c6",
   "metadata": {},
   "outputs": [
    {
     "name": "stdout",
     "output_type": "stream",
     "text": [
      "안녕하세요\n",
      "안녕!\n",
      "안녕하세요안녕하세요안녕하세요\n",
      "안녕하세요안녕하세요안녕하세요안녕하세요안녕하세요안녕하세요안녕하세요안녕하세요안녕하세요\n"
     ]
    }
   ],
   "source": [
    "# 문자열 연산자, 문자열 자르기, 문자열 길이 구하기\n",
    "# 문자열 + 문자열 -> 이어붙이기\n",
    "# 문자열 * 숫자 -> 수 만큼 반복\n",
    "\n",
    "print (\"안녕\"+\"하세요\")\n",
    "print (\"안녕\"+\"!\")\n",
    "# print (\"안녕하세요\"+1) 오류냠\n",
    "print (\"안녕하세요\"*3)\n",
    "print (3*\"안녕하세요\"*3)"
   ]
  },
  {
   "cell_type": "code",
   "execution_count": 10,
   "id": "2caeb9d1",
   "metadata": {},
   "outputs": [
    {
     "name": "stdout",
     "output_type": "stream",
     "text": [
      "5\n",
      "안 요\n",
      "안녕\n",
      "녕하\n",
      "세요\n"
     ]
    }
   ],
   "source": [
    "# 문자열 자르기 : 문자열[시작인덱스 : 마지막인덱스]-> 시작은 포함, 마지막은 포함하지않음\n",
    "# -> 시작은 포함, 마지막은 포함하지 않음\n",
    "hello = '안녕하세요'\n",
    "\n",
    "# 전체 문자열의 길이 구하는 함수 : len(hello)\n",
    "print(len(hello))\n",
    "\n",
    "\n",
    "# 처음 문자와 마지막 문자 출력\n",
    "print(hello[0], hello[-1])\n",
    "\n",
    "#처음부터 두 글자만 출력\n",
    "print(hello[ : 2])\n",
    "\n",
    "#두번째 문자와 3번째 문자 출력\n",
    "print(hello[1:3])\n",
    "\n",
    "#세번째 문자부터 끝까지 출력\n",
    "print(hello[3: ])"
   ]
  },
  {
   "cell_type": "markdown",
   "id": "b4b3bcb6",
   "metadata": {},
   "source": [
    "ex)문자열의 길이를 구해서 마지막 문자 출력\n",
    "print(hello[len(hello) -1])"
   ]
  },
  {
   "cell_type": "code",
   "execution_count": 16,
   "id": "8cba08c6",
   "metadata": {},
   "outputs": [],
   "source": [
    "# 연산자 // -> 몫, % -> 나머지, ** 거듭제곱\n",
    "print('3' + 'test')\n",
    "# print(3 + 'test') int 와 string 자료형은 서로 더할수 없음"
   ]
  },
  {
   "cell_type": "markdown",
   "id": "a0495d69",
   "metadata": {},
   "source": [
    "### 3.변수의 활용"
   ]
  },
  {
   "cell_type": "code",
   "execution_count": 4,
   "id": "a1ff21b0",
   "metadata": {},
   "outputs": [
    {
     "data": {
      "text/plain": [
       "20"
      ]
     },
     "execution_count": 4,
     "metadata": {},
     "output_type": "execute_result"
    }
   ],
   "source": [
    "var_a = 10\n",
    "var_a\n",
    "\n",
    "var_b = 20\n",
    "var_b"
   ]
  },
  {
   "cell_type": "code",
   "execution_count": 12,
   "id": "630eec4f",
   "metadata": {},
   "outputs": [
    {
     "data": {
      "text/plain": [
       "'안녕하세요'"
      ]
     },
     "execution_count": 12,
     "metadata": {},
     "output_type": "execute_result"
    }
   ],
   "source": [
    "var_a + var_b\n",
    "hello"
   ]
  },
  {
   "cell_type": "code",
   "execution_count": 13,
   "id": "f867ef96",
   "metadata": {},
   "outputs": [
    {
     "data": {
      "text/plain": [
       "'str variable'"
      ]
     },
     "execution_count": 13,
     "metadata": {},
     "output_type": "execute_result"
    }
   ],
   "source": [
    "var_a = 'str variable'\n",
    "var_a"
   ]
  },
  {
   "cell_type": "markdown",
   "id": "4ecf17a0",
   "metadata": {},
   "source": [
    "#### p.155\n",
    "##### variable.py"
   ]
  },
  {
   "cell_type": "code",
   "execution_count": 1,
   "id": "e8223e1b",
   "metadata": {},
   "outputs": [
    {
     "name": "stdout",
     "output_type": "stream",
     "text": [
      "원주율 =  3.14159265\n",
      "반지름 =  10\n",
      "원의 둘레 =  62.831853\n",
      "원의 넓이 =  314.159265\n"
     ]
    }
   ],
   "source": [
    "# 변수 선언과 할당\n",
    "pi = 3.14159265\n",
    "r = 10\n",
    "\n",
    "# 변수 참조\n",
    "print(\"원주율 = \", pi)\n",
    "print(\"반지름 = \", r)\n",
    "print(\"원의 둘레 = \", 2*pi*r)\n",
    "print(\"원의 넓이 = \", pi*r*r)\n",
    "# exam end"
   ]
  },
  {
   "cell_type": "code",
   "execution_count": 7,
   "id": "1d03a999",
   "metadata": {},
   "outputs": [
    {
     "name": "stdout",
     "output_type": "stream",
     "text": [
      "20\n",
      "200\n",
      "20.0\n",
      "test!!\n",
      "test!!test!!\n"
     ]
    }
   ],
   "source": [
    "# 복합 대입 연산자\n",
    "a = 10\n",
    "a += 10\n",
    "print(a) # a -> 20\n",
    "a *= 10  # a -> 200\n",
    "print(a)\n",
    "a /= 10  # a -> 20\n",
    "print(a)\n",
    "\n",
    "# 문자열 복합연산자\n",
    "a_str = 'test'\n",
    "a_str += '!!'\n",
    "print(a_str)\n",
    "\n",
    "a_str *= 2\n",
    "print(a_str)"
   ]
  },
  {
   "cell_type": "code",
   "execution_count": 12,
   "id": "91598722",
   "metadata": {},
   "outputs": [
    {
     "name": "stdout",
     "output_type": "stream",
     "text": [
      "문자 입력 : ㅁㄴㅇ\n",
      "입력한 문자는 ㅁㄴㅇ\n"
     ]
    }
   ],
   "source": [
    "# input() -> 사용자가 입력하는 함수\n",
    "input_str1 = input(\"문자 입력 : \")\n",
    "print(\"입력한 문자는\", input_str1)"
   ]
  },
  {
   "cell_type": "code",
   "execution_count": 21,
   "id": "aa3b4feb",
   "metadata": {},
   "outputs": [
    {
     "name": "stdout",
     "output_type": "stream",
     "text": [
      "숫자입력 : 1\n",
      "입력한 숫자의 데이터 타입은 <class 'str'>\n"
     ]
    }
   ],
   "source": [
    "# 숫자를 입력해서 변수에 저장 후 변수의 데이터 타입을 확인해보기\n",
    "\n",
    "input_str2 = input(\"숫자입력 : \")\n",
    "print(\"입력한 숫자의 데이터 타입은\", type(input_str2))"
   ]
  },
  {
   "cell_type": "code",
   "execution_count": 23,
   "id": "872972c3",
   "metadata": {},
   "outputs": [
    {
     "data": {
      "text/plain": [
       "int"
      ]
     },
     "execution_count": 23,
     "metadata": {},
     "output_type": "execute_result"
    }
   ],
   "source": [
    "# 데이터 타입 변경 : 문자를 숫자로 -> int(), float()\n",
    "# 숫자를 문자로 -> str()\n",
    "input_str2 = int(input_str2)\n",
    "type(input_str2)"
   ]
  },
  {
   "cell_type": "code",
   "execution_count": 31,
   "id": "6ff79c11",
   "metadata": {},
   "outputs": [
    {
     "name": "stdout",
     "output_type": "stream",
     "text": [
      "첫번째 정수 입력 : 4\n",
      "두번째 정수 입력 : 8\n",
      "입력한 두 정수의 합은 12\n",
      "입력한 두 정수의 곱은 32\n"
     ]
    }
   ],
   "source": [
    "# 두 수를 입력 받아 두 수의 합과 곱을 구하세요\n",
    "# 1. 숫자 두 개를 입력 받음\n",
    "# 2. 입력 받은 두 수를 int로 형 변환\n",
    "# 3. 두 수의 합과 곱을 구함\n",
    "\n",
    "x = input(\"첫번째 정수 입력 : \")\n",
    "y = input(\"두번째 정수 입력 : \")\n",
    "\n",
    "x = int(x)\n",
    "y = int(y)\n",
    "\n",
    "print(\"입력한 두 정수의 합은\", x+y)\n",
    "print(\"입력한 두 정수의 곱은\", x*y)"
   ]
  },
  {
   "cell_type": "markdown",
   "id": "7fbfd631",
   "metadata": {},
   "source": [
    "### 04. 숫자와 문자열의 다양한 기능"
   ]
  },
  {
   "cell_type": "code",
   "execution_count": 41,
   "id": "3a9f3806",
   "metadata": {},
   "outputs": [
    {
     "name": "stdout",
     "output_type": "stream",
     "text": [
      "4 + 8 = 12\n"
     ]
    }
   ],
   "source": [
    "# 문자열.format()\n",
    "\"{} {}\".format(10,'str')\n",
    "print(\"{} + {} = {}\".format(x, y, x+y))"
   ]
  },
  {
   "cell_type": "code",
   "execution_count": 60,
   "id": "ae2c2380",
   "metadata": {},
   "outputs": [
    {
     "name": "stdout",
     "output_type": "stream",
     "text": [
      "52\n",
      "52\n",
      "   52\n",
      "00052\n",
      "-0052\n",
      "\n",
      "  +52\n",
      "  -52\n",
      "+  52\n",
      "-  52\n",
      "\n",
      " 52\n",
      "-52\n",
      "\n",
      "12.346\n",
      "12.35\n",
      " 12.3\n",
      " 12.345670\n",
      "\n",
      "52\n"
     ]
    }
   ],
   "source": [
    "# 정수 출력에서 format() 함수 활용\n",
    "print(\"{}\".format(52))\n",
    "print(\"{:d}\".format(52))\n",
    "print(\"{:5d}\".format(52))\n",
    "print(\"{:05d}\".format(52))\n",
    "print(\"{:05d}\".format(-52))\n",
    "print()\n",
    "# 기호와 함께 출력\n",
    "print(\"{:+5d}\".format(52))\n",
    "print(\"{:+5d}\".format(-52))\n",
    "print(\"{:=+5d}\".format(52))\n",
    "print(\"{:=+5d}\".format(-52))\n",
    "print()\n",
    "print(\"{: d}\".format(52))\n",
    "print(\"{: d}\".format(-52))\n",
    "print()\n",
    "# 소수 출력\n",
    "print(\"{:5.3f}\".format(12.34567))\n",
    "print(\"{:5.2f}\".format(12.34567))\n",
    "print(\"{:5.1f}\".format(12.34567))\n",
    "print(\"{:10f}\".format(12.34567))\n",
    "print()\n",
    "# 의미없는 소수점 미만 자료 버리기\n",
    "print(\"{:g}\".format(52.0))"
   ]
  },
  {
   "cell_type": "code",
   "execution_count": 65,
   "id": "56ff41e6",
   "metadata": {},
   "outputs": [
    {
     "name": "stdout",
     "output_type": "stream",
     "text": [
      "첫번째 정수 입력 : 10\n",
      "두번째 정수 입력 : 20\n",
      "10 + 20 = 30\n",
      "10 * 20 = 200\n",
      "10 - 20 = -10\n",
      "10 % 20 = 10\n"
     ]
    }
   ],
   "source": [
    "# 두 개의 숫자를 입력 받아 두 수의 합과 곱, 차, 나머지 값을 다음의 형식으로 출력\n",
    "# 1. 입력 받은 두 수는 10, 20이면\n",
    "# 2. 입력 받은 두 수 10과 20의 합은 30\n",
    "# 3. 입력 받은 두 수 10과 20의 곱은 200\n",
    "# 4. 입력 받은 두 수 10과 20의 차은 -10\n",
    "# 5. 입력 받은 두 수 10과 20의 나머지는 10\n",
    "\n",
    "x = int(input(\"첫번째 정수 입력 : \"))\n",
    "y = int(input(\"두번째 정수 입력 : \"))\n",
    "\n",
    "print(\"{} + {} = {}\".format(x,y,x+y))\n",
    "print(\"{} * {} = {}\".format(x,y,x*y))\n",
    "print(\"{} - {} = {}\".format(x,y,x-y))\n",
    "print(\"{} % {} = {}\".format(x,y,x%y))"
   ]
  }
 ],
 "metadata": {
  "kernelspec": {
   "display_name": "Python 3 (ipykernel)",
   "language": "python",
   "name": "python3"
  },
  "language_info": {
   "codemirror_mode": {
    "name": "ipython",
    "version": 3
   },
   "file_extension": ".py",
   "mimetype": "text/x-python",
   "name": "python",
   "nbconvert_exporter": "python",
   "pygments_lexer": "ipython3",
   "version": "3.9.12"
  }
 },
 "nbformat": 4,
 "nbformat_minor": 5
}
