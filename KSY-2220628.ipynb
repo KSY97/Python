{
 "cells": [
  {
   "cell_type": "markdown",
   "id": "0613abc1",
   "metadata": {},
   "source": [
    "### p290\n",
    "#### 확인문제"
   ]
  },
  {
   "cell_type": "code",
   "execution_count": 4,
   "id": "09b054f9",
   "metadata": {},
   "outputs": [
    {
     "name": "stdout",
     "output_type": "stream",
     "text": [
      "21\n",
      "121\n"
     ]
    }
   ],
   "source": [
    "# 1번 문제\n",
    "def f(x):\n",
    "    return 2*x+1\n",
    "print(f(10))\n",
    "\n",
    "def f(x):\n",
    "    return (x**2)+(2*x)+1\n",
    "print(f(10))"
   ]
  },
  {
   "cell_type": "code",
   "execution_count": 7,
   "id": "ef8be8ef",
   "metadata": {},
   "outputs": [
    {
     "name": "stdout",
     "output_type": "stream",
     "text": [
      "3150\n"
     ]
    }
   ],
   "source": [
    "# 2번 문제\n",
    "def mul(*values):\n",
    "    x = 1\n",
    "    for value in values:\n",
    "        x = value * x\n",
    "    return x\n",
    "\n",
    "print(mul(5,7,9,10))"
   ]
  },
  {
   "cell_type": "code",
   "execution_count": 8,
   "id": "5d537640",
   "metadata": {},
   "outputs": [],
   "source": [
    "# 3번 문제\n",
    "# 4번"
   ]
  },
  {
   "cell_type": "markdown",
   "id": "0f772be9",
   "metadata": {},
   "source": [
    "### p314\n",
    "#### 확인문제"
   ]
  },
  {
   "cell_type": "code",
   "execution_count": 14,
   "id": "1d14b044",
   "metadata": {},
   "outputs": [
    {
     "name": "stdout",
     "output_type": "stream",
     "text": [
      "437420\n"
     ]
    }
   ],
   "source": [
    "# 1번 문제\n",
    "min_people = 2\n",
    "max_people = 10\n",
    "people = 100\n",
    "memo={}\n",
    "\n",
    "def sit_func(left_people, sit_people):\n",
    "    key = str([left_people, sit_people])\n",
    "    \n",
    "    if key in memo:\n",
    "        return memo[key]\n",
    "    if left_people < 0:\n",
    "        return 0\n",
    "    if left_people == 0:\n",
    "        return 1\n",
    "    \n",
    "    num = 0\n",
    "    for n in range(sit_people, max_people+1):\n",
    "        num += sit_func(left_people - n, n)\n",
    "        \n",
    "    memo[key] = num\n",
    "    return num\n",
    "\n",
    "print(sit_func(people, min_people))"
   ]
  },
  {
   "cell_type": "markdown",
   "id": "e2ee8c10",
   "metadata": {},
   "source": [
    "### p352\n",
    "#### 확인문제"
   ]
  },
  {
   "cell_type": "code",
   "execution_count": 23,
   "id": "3a3725ed",
   "metadata": {},
   "outputs": [
    {
     "name": "stdout",
     "output_type": "stream",
     "text": [
      "1::2::3::4::5::6\n"
     ]
    }
   ],
   "source": [
    "# 1번 문제\n",
    "numbers = ['1','2','3','4','5','6']\n",
    "\n",
    "print(\"::\".join(map(str,numbers)))"
   ]
  },
  {
   "cell_type": "code",
   "execution_count": 26,
   "id": "436a2be4",
   "metadata": {},
   "outputs": [
    {
     "name": "stdout",
     "output_type": "stream",
     "text": [
      "# 홀수만 추출하기\n",
      "[1, 3, 5, 7, 9]\n",
      "\n",
      "# 3 이상, 7 미만 추출하기\n",
      "[3, 4, 5, 6]\n",
      "\n",
      "# 제곱해서 50미만 추출하기\n",
      "[1, 2, 3, 4, 5, 6, 7]\n",
      "\n"
     ]
    }
   ],
   "source": [
    "# 2번 문제\n",
    "numbers = list(range(1,10+1))\n",
    "\n",
    "print(\"# 홀수만 추출하기\")\n",
    "print(list(filter(lambda x:x%2==1, numbers)))\n",
    "print()\n",
    "\n",
    "print(\"# 3 이상, 7 미만 추출하기\")\n",
    "print(list(filter(lambda x:3<=x<7, numbers)))\n",
    "print()\n",
    "\n",
    "print(\"# 제곱해서 50미만 추출하기\")\n",
    "print(list(filter(lambda x:(x**2)<50, numbers)))\n",
    "print()"
   ]
  },
  {
   "cell_type": "markdown",
   "id": "ebadd3ea",
   "metadata": {},
   "source": [
    "### p379\n",
    "#### 확인문제"
   ]
  },
  {
   "cell_type": "code",
   "execution_count": 1,
   "id": "d8923764",
   "metadata": {},
   "outputs": [
    {
     "name": "stdout",
     "output_type": "stream",
     "text": [
      "# (1) 요소 내부에 있는 값 찾기\n",
      "- 52는 0 위치에 있습니다.\n",
      "\n",
      "# (2) 요소 내부에 없는 값 찾기\n",
      "- 리스트 내부에 없는 값입니다.\n",
      "\n",
      "--- 정상적으로 종료되었습니다. ---\n"
     ]
    }
   ],
   "source": [
    "# 2번 문제\n",
    "numbers = [52, 273, 32, 103, 90, 10, 275]\n",
    "\n",
    "print(\"# (1) 요소 내부에 있는 값 찾기\")\n",
    "print(\"- {}는 {} 위치에 있습니다.\".format(52, numbers.index(52)))\n",
    "print()\n",
    "\n",
    "print(\"# (2) 요소 내부에 없는 값 찾기\")\n",
    "number = 10000\n",
    "try:\n",
    "    print(\"- {}는 {} 위치에 있습니다.\".format(number, numbers.index(number)))\n",
    "except:    \n",
    "    print(\"- 리스트 내부에 없는 값입니다.\")\n",
    "print()\n",
    "\n",
    "print(\"--- 정상적으로 종료되었습니다. ---\")"
   ]
  },
  {
   "cell_type": "markdown",
   "id": "e074ad1d",
   "metadata": {},
   "source": [
    "### p420\n",
    "#### 확인문제"
   ]
  },
  {
   "cell_type": "code",
   "execution_count": 3,
   "id": "08d0ae40",
   "metadata": {},
   "outputs": [
    {
     "name": "stdout",
     "output_type": "stream",
     "text": [
      "파일: COMMIT_EDITMSG\n",
      "파일: config\n",
      "파일: description\n",
      "파일: HEAD\n",
      "파일: hooks\n",
      "파일: index\n",
      "파일: info\n",
      "파일: logs\n",
      "파일: objects\n",
      "파일: refs\n",
      "파일: KSY-2220628-checkpoint.ipynb\n",
      "파일: day-4-module.ipynb\n",
      "파일: day-4.ipynb\n",
      "파일: KSY-2220628.ipynb\n",
      "파일: naver_movie_ranking.ipynb\n",
      "파일: papago.ipynb\n"
     ]
    }
   ],
   "source": [
    "import os\n",
    "\n",
    "def read_folder(path):\n",
    "    output = os.listdir(path)\n",
    "    for item in output:\n",
    "        if os.path.isdir(item):\n",
    "            read_folder(path+\"/\"+item)\n",
    "        else:\n",
    "            print(\"파일:\",item)\n",
    "            \n",
    "read_folder(\".\")"
   ]
  }
 ],
 "metadata": {
  "kernelspec": {
   "display_name": "Python 3 (ipykernel)",
   "language": "python",
   "name": "python3"
  },
  "language_info": {
   "codemirror_mode": {
    "name": "ipython",
    "version": 3
   },
   "file_extension": ".py",
   "mimetype": "text/x-python",
   "name": "python",
   "nbconvert_exporter": "python",
   "pygments_lexer": "ipython3",
   "version": "3.9.12"
  }
 },
 "nbformat": 4,
 "nbformat_minor": 5
}
