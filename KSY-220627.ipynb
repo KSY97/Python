{
 "cells": [
  {
   "cell_type": "markdown",
   "id": "ac8b8b6a",
   "metadata": {},
   "source": [
    "### p227\n",
    "#### 확인문제"
   ]
  },
  {
   "cell_type": "code",
   "execution_count": 7,
   "id": "db464114",
   "metadata": {},
   "outputs": [
    {
     "name": "stdout",
     "output_type": "stream",
     "text": [
      "{'name': '구름'}\n",
      "{}\n"
     ]
    }
   ],
   "source": [
    "# 1번 문제\n",
    "dict_a = {}\n",
    "dict_a['name'] = '구름'\n",
    "print(dict_a)\n",
    "del dict_a['name']\n",
    "print(dict_a)"
   ]
  },
  {
   "cell_type": "code",
   "execution_count": 37,
   "id": "33162e09",
   "metadata": {},
   "outputs": [
    {
     "name": "stdout",
     "output_type": "stream",
     "text": [
      "# 우리 동네 애완 동물들\n",
      "구름 5살\n",
      "초코 3살\n",
      "아지 1살\n",
      "호랑이 1살\n"
     ]
    }
   ],
   "source": [
    "# 2번 문제\n",
    "pets = [\n",
    "    {\"name\": \"구름\", \"age\" : 5},\n",
    "    {\"name\": \"초코\", \"age\" : 3},\n",
    "    {\"name\": \"아지\", \"age\" : 1},\n",
    "    {\"name\": \"호랑이\", \"age\" : 1},\n",
    "]\n",
    "\n",
    "print(\"# 우리 동네 애완 동물들\")\n",
    "for dic in pets:\n",
    "    print(f\"{dic['name']} {dic['age']}살\")"
   ]
  },
  {
   "cell_type": "code",
   "execution_count": 40,
   "id": "b571602d",
   "metadata": {},
   "outputs": [
    {
     "name": "stdout",
     "output_type": "stream",
     "text": [
      "{1: 3, 2: 4, 6: 1, 8: 2, 4: 3, 3: 3, 9: 3, 5: 2, 7: 2}\n"
     ]
    }
   ],
   "source": [
    "# 3번 문제\n",
    "numbers = [1,2,6,8,4,3,2,1,9,5,4,9,7,2,1,3,5,4,8,9,7,2,3]\n",
    "counter = {}\n",
    "\n",
    "for number in numbers:\n",
    "    if counter.get(number) == None:\n",
    "        counter[number] = 0\n",
    "        \n",
    "    for num in range(1,10):\n",
    "        if num == number:\n",
    "            counter[num] = counter.get(num) + 1\n",
    "print(counter)"
   ]
  },
  {
   "cell_type": "code",
   "execution_count": 56,
   "id": "fa641ca3",
   "metadata": {},
   "outputs": [
    {
     "name": "stdout",
     "output_type": "stream",
     "text": [
      "name : 기사\n",
      "level : 12\n",
      "sword : 불꽃의 검\n",
      "armor : 풀플레이트\n",
      "skill : 베기\n",
      "skill : 세게 베기\n",
      "skill : 아주 세게 베기\n"
     ]
    }
   ],
   "source": [
    "# 4번 문제\n",
    "char = {\n",
    "    \"name\": \"기사\",\n",
    "    \"level\": \"12\",\n",
    "    \"items\": {\n",
    "        \"sword\": \"불꽃의 검\",\n",
    "        \"armor\": \"풀플레이트\"\n",
    "    },\n",
    "    \"skill\": [\"베기\", \"세게 베기\", \"아주 세게 베기\"]\n",
    "}\n",
    "\n",
    "for key in char:\n",
    "    if type(char[key]) is list:\n",
    "        char_3 = char[key]\n",
    "        for key_3 in char_3:\n",
    "            print(f\"{key} : {key_3}\")\n",
    "    elif type(char[key]) is dict:\n",
    "        char_2 = char[key]\n",
    "        for key_2 in char_2:\n",
    "            print(f\"{key_2} : {char_2[key_2]}\")\n",
    "    else:\n",
    "        print(f\"{key} : {char[key]}\")"
   ]
  },
  {
   "cell_type": "markdown",
   "id": "578fbeba",
   "metadata": {},
   "source": [
    "### p247\n",
    "#### 확인문제"
   ]
  },
  {
   "cell_type": "code",
   "execution_count": 8,
   "id": "04b6adc3",
   "metadata": {},
   "outputs": [
    {
     "name": "stdout",
     "output_type": "stream",
     "text": [
      "{'name': '기사', 'hp': 200, 'mp': 30, 'level': 5}\n"
     ]
    }
   ],
   "source": [
    "# 1번 문제\n",
    "# [4, 5]\n",
    "# [7, 6, 5, 4, 3, 2, 1]\n",
    "# range(3,10,3)\n",
    "\n",
    "# 2번 문제\n",
    "key_list = [\"name\", \"hp\", \"mp\", \"level\"]\n",
    "value_list = [\"기사\", 200, 30, 5]\n",
    "character = {}\n",
    "\n",
    "for num in range(0, 4):\n",
    "    character[key_list[num]] = value_list[num]\n",
    "    \n",
    "\n",
    "print(character)"
   ]
  },
  {
   "cell_type": "code",
   "execution_count": 12,
   "id": "7ea3b2ec",
   "metadata": {},
   "outputs": [
    {
     "name": "stdout",
     "output_type": "stream",
     "text": [
      "141를 더할 때 10000을 넘으며 그때의 값은 10011입니다.\n"
     ]
    }
   ],
   "source": [
    "# 3번 문제\n",
    "limit = 10000\n",
    "i = 1\n",
    "sum_value = 0\n",
    "\n",
    "while sum_value < 10000:\n",
    "    sum_value += i\n",
    "    i += 1\n",
    "\n",
    "print(\"{}를 더할 때 {}을 넘으며 그때의 값은 {}입니다.\".format(i-1, limit, sum_value))"
   ]
  },
  {
   "cell_type": "code",
   "execution_count": 16,
   "id": "852769b3",
   "metadata": {},
   "outputs": [
    {
     "name": "stdout",
     "output_type": "stream",
     "text": [
      "최대가 되는 경우 : 50 * 50 = 2500\n"
     ]
    }
   ],
   "source": [
    "# 4번 문제\n",
    "max_value = 0\n",
    "a = 0\n",
    "b = 0\n",
    "\n",
    "for i in range(1, 100) :\n",
    "    j = 100 - i\n",
    "    \n",
    "    if i * j > max_value:\n",
    "        max_value = i * j\n",
    "        a = i\n",
    "        b = j\n",
    "    \n",
    "print(\"최대가 되는 경우 : {} * {} = {}\".format(a, b, max_value))"
   ]
  },
  {
   "cell_type": "markdown",
   "id": "3721811c",
   "metadata": {},
   "source": [
    "### p266\n",
    "#### 확인문제"
   ]
  },
  {
   "cell_type": "code",
   "execution_count": 24,
   "id": "9b5ec9f4",
   "metadata": {},
   "outputs": [
    {
     "name": "stdout",
     "output_type": "stream",
     "text": [
      "2 : 10\n",
      "5 : 101\n",
      "6 : 110\n",
      "11 : 1011\n",
      "13 : 1101\n",
      "14 : 1110\n",
      "23 : 10111\n",
      "27 : 11011\n",
      "29 : 11101\n",
      "30 : 11110\n",
      "47 : 101111\n",
      "55 : 110111\n",
      "59 : 111011\n",
      "61 : 111101\n",
      "62 : 111110\n",
      "95 : 1011111\n",
      "합계: 539\n"
     ]
    }
   ],
   "source": [
    "# 1번 문제\n",
    "# 2, 3\n",
    "\n",
    "# 2번 문제\n",
    "output = [i\n",
    "          for i in range(1, 101)\n",
    "         if \"{:b}\".format(i).count(\"0\")==1]\n",
    "\n",
    "for i in output:\n",
    "    print(\"{} : {}\".format(i, \"{:b}\".format(i)))\n",
    "    \n",
    "print(\"합계:\", sum(output))"
   ]
  },
  {
   "cell_type": "markdown",
   "id": "1fee1d84",
   "metadata": {},
   "source": [
    "### p268\n",
    "#### 도전문제"
   ]
  },
  {
   "cell_type": "code",
   "execution_count": 42,
   "id": "4e83e69a",
   "metadata": {},
   "outputs": [
    {
     "name": "stdout",
     "output_type": "stream",
     "text": [
      "[1, 2, 3, 4, 1, 2, 3, 1, 4, 1, 2, 3]에서\n",
      "사용된 숫자의 종류는 4개 입니다.\n",
      "참고 : {1: 4, 2: 3, 3: 3, 4: 2}\n"
     ]
    }
   ],
   "source": [
    "# 1번 문제\n",
    "list_a = [1, 2, 3, 4, 1, 2, 3, 1, 4, 1, 2, 3]\n",
    "counter = {}\n",
    "\n",
    "for number in list_a:\n",
    "    if counter.get(number) == None:\n",
    "        counter[number] = 0\n",
    "        \n",
    "    for num in range(1,10):\n",
    "        if num == number:\n",
    "            counter[num] = counter.get(num) + 1\n",
    "print(f\"{list_a}에서\\n사용된 숫자의 종류는 {len(counter)}개 입니다.\")\n",
    "print(f\"참고 : {counter}\")"
   ]
  },
  {
   "cell_type": "code",
   "execution_count": 43,
   "id": "d6ab7b19",
   "metadata": {},
   "outputs": [
    {
     "name": "stdout",
     "output_type": "stream",
     "text": [
      "염기 서열을 입력해주세요 : ctacaatgtcagtatacccattgcattagccgg\n",
      "{'c': 9, 't': 9, 'a': 9, 'g': 6}\n"
     ]
    }
   ],
   "source": [
    "# 2번 문제\n",
    "list_b = list(input(\"염기 서열을 입력해주세요 : \"))\n",
    "list_ex = ['a', 't', 'g', 'c']\n",
    "counter = {}\n",
    "\n",
    "for char in list_b:\n",
    "    if counter.get(char) == None:\n",
    "        counter[char] = 0\n",
    "        \n",
    "    for ex in list_ex:\n",
    "        if ex == char:\n",
    "            counter[ex] = counter.get(ex) + 1\n",
    "print(counter)"
   ]
  },
  {
   "cell_type": "code",
   "execution_count": 74,
   "id": "a32440d4",
   "metadata": {},
   "outputs": [
    {
     "name": "stdout",
     "output_type": "stream",
     "text": [
      "염기 서열을 입력해주세요 : ctacaatgtcagtatacccattgcattagccgg\n",
      "0\n",
      "3\n",
      "6\n",
      "9\n",
      "12\n",
      "15\n",
      "18\n",
      "21\n",
      "24\n",
      "27\n",
      "30\n",
      "{'cta': 1, 'caa': 1, 'tgt': 1, 'cag': 1, 'tat': 1, 'acc': 1, 'cat': 1, 'tgc': 1, 'att': 1, 'agc': 1, 'cgg': 1}\n"
     ]
    }
   ],
   "source": [
    "# 3번 문제\n",
    "list_a = list(input(\"염기 서열을 입력해주세요 : \"))\n",
    "list_b = []\n",
    "counter = {}\n",
    "\n",
    "for n in range(0, len(list_a), 3):\n",
    "    print(n)\n",
    "    if n+2 < len(list_a):\n",
    "        list_b.append(list_a[n] + list_a[n+1] + list_a[n+2])\n",
    "    else:\n",
    "        list_b.pop()\n",
    "    \n",
    "for char in list_b:\n",
    "    if counter.get(char) == None:\n",
    "        counter[char] = 1\n",
    "    else:\n",
    "        counter[char] += 1\n",
    "print(counter)"
   ]
  },
  {
   "cell_type": "code",
   "execution_count": 78,
   "id": "1984b3ee",
   "metadata": {},
   "outputs": [
    {
     "name": "stdout",
     "output_type": "stream",
     "text": [
      "[1, 2, [3, 4], 5, [6, 7], [8, 9]]를 평탄화 하면\n",
      "[1, 2, 3, 4, 5, 6, 7, 8, 9]입니다.\n"
     ]
    }
   ],
   "source": [
    "# 4번 문제\n",
    "list_a = [1, 2, [3, 4], 5, [6, 7], [8, 9]]\n",
    "list_b =[]\n",
    "\n",
    "for value in list_a:\n",
    "    if type(value) == list:\n",
    "        for value2 in value:\n",
    "            list_b.append(value2)\n",
    "    else:\n",
    "        list_b.append(value)\n",
    "\n",
    "print(f\"{list_a}를 평탄화 하면\\n{list_b}입니다.\")"
   ]
  }
 ],
 "metadata": {
  "kernelspec": {
   "display_name": "Python 3 (ipykernel)",
   "language": "python",
   "name": "python3"
  },
  "language_info": {
   "codemirror_mode": {
    "name": "ipython",
    "version": 3
   },
   "file_extension": ".py",
   "mimetype": "text/x-python",
   "name": "python",
   "nbconvert_exporter": "python",
   "pygments_lexer": "ipython3",
   "version": "3.9.12"
  }
 },
 "nbformat": 4,
 "nbformat_minor": 5
}
