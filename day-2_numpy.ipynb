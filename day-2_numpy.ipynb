{
 "cells": [
  {
   "cell_type": "code",
   "execution_count": 1,
   "id": "d230e8b7",
   "metadata": {},
   "outputs": [],
   "source": [
    "# numpy : 배열을 처리하기 쉽게 제공하는 모듈\n",
    "import numpy as np"
   ]
  },
  {
   "cell_type": "code",
   "execution_count": 2,
   "id": "0e5ba26a",
   "metadata": {},
   "outputs": [
    {
     "name": "stdout",
     "output_type": "stream",
     "text": [
      "<class 'list'> [0, 1, 2, 3, 4, 5, 6, 7, 8, 9, 10, 11, 12, 13, 14]\n"
     ]
    }
   ],
   "source": [
    "list_a = list(range(15))\n",
    "print(type(list_a), list_a)"
   ]
  },
  {
   "cell_type": "code",
   "execution_count": 3,
   "id": "0556328b",
   "metadata": {},
   "outputs": [
    {
     "name": "stdout",
     "output_type": "stream",
     "text": [
      "<class 'numpy.ndarray'> [ 0  1  2  3  4  5  6  7  8  9 10 11 12 13 14]\n",
      "2\n",
      "(3, 5)\n",
      "15\n",
      "int32 4\n",
      "[[ 0  1  2  3  4]\n",
      " [ 5  6  7  8  9]\n",
      " [10 11 12 13 14]]\n",
      "[ 0  1  2  3  4  5  6  7  8  9 10 11 12 13 14]\n"
     ]
    }
   ],
   "source": [
    "arr = np.arange(15) # np.arange([start],stop,[step])\n",
    "print(type(arr), arr)\n",
    "\n",
    "# 차원 변경 : array.reshape(행, 열)\n",
    "arr = arr.reshape(3,5)\n",
    "\n",
    "print(arr.ndim)    # 차원 출력\n",
    "print(arr.shape)  # 배열의 형태 ex)3,5\n",
    "print(arr.size)\n",
    "print(arr.dtype.name, arr.dtype.itemsize)\n",
    "print(arr)\n",
    "\n",
    "print(arr.reshape(arr.size)) # 평탄화"
   ]
  },
  {
   "cell_type": "code",
   "execution_count": 4,
   "id": "48b35a75",
   "metadata": {},
   "outputs": [
    {
     "data": {
      "text/html": [
       "<div>\n",
       "<style scoped>\n",
       "    .dataframe tbody tr th:only-of-type {\n",
       "        vertical-align: middle;\n",
       "    }\n",
       "\n",
       "    .dataframe tbody tr th {\n",
       "        vertical-align: top;\n",
       "    }\n",
       "\n",
       "    .dataframe thead th {\n",
       "        text-align: right;\n",
       "    }\n",
       "</style>\n",
       "<table border=\"1\" class=\"dataframe\">\n",
       "  <thead>\n",
       "    <tr style=\"text-align: right;\">\n",
       "      <th></th>\n",
       "      <th>0</th>\n",
       "      <th>1</th>\n",
       "      <th>2</th>\n",
       "      <th>3</th>\n",
       "      <th>4</th>\n",
       "    </tr>\n",
       "  </thead>\n",
       "  <tbody>\n",
       "    <tr>\n",
       "      <th>0</th>\n",
       "      <td>0</td>\n",
       "      <td>1</td>\n",
       "      <td>2</td>\n",
       "      <td>3</td>\n",
       "      <td>4</td>\n",
       "    </tr>\n",
       "    <tr>\n",
       "      <th>1</th>\n",
       "      <td>5</td>\n",
       "      <td>6</td>\n",
       "      <td>7</td>\n",
       "      <td>8</td>\n",
       "      <td>9</td>\n",
       "    </tr>\n",
       "    <tr>\n",
       "      <th>2</th>\n",
       "      <td>10</td>\n",
       "      <td>11</td>\n",
       "      <td>12</td>\n",
       "      <td>13</td>\n",
       "      <td>14</td>\n",
       "    </tr>\n",
       "  </tbody>\n",
       "</table>\n",
       "</div>"
      ],
      "text/plain": [
       "    0   1   2   3   4\n",
       "0   0   1   2   3   4\n",
       "1   5   6   7   8   9\n",
       "2  10  11  12  13  14"
      ]
     },
     "execution_count": 4,
     "metadata": {},
     "output_type": "execute_result"
    }
   ],
   "source": [
    "import pandas as pd\n",
    "\n",
    "df = pd.DataFrame(arr)\n",
    "df"
   ]
  },
  {
   "cell_type": "code",
   "execution_count": 5,
   "id": "60ea6694",
   "metadata": {},
   "outputs": [
    {
     "name": "stdout",
     "output_type": "stream",
     "text": [
      "[ 0  1  2  3  4  5  6  7  8  9 10 11 12 13 14]\n",
      "[[1 2 3]\n",
      " [4 5 6]]\n",
      "\n",
      "1\n",
      "(15,)\n",
      "15\n",
      "int32 4\n",
      "\n",
      "2\n",
      "(2, 3)\n",
      "6\n",
      "int32 4\n"
     ]
    }
   ],
   "source": [
    "# 리스트를 배열로 변경\n",
    "arr_list1 = np.array(list_a)\n",
    "print(arr_list1)\n",
    "\n",
    "arr_list2 = np.array([[1,2,3],[4,5,6]])\n",
    "print(arr_list2)\n",
    "\n",
    "# 각 배열의 차원, 배열 형식, 전체 사이즈, 데이터 타입 출력\n",
    "\n",
    "print()\n",
    "print(arr_list1.ndim)    # 차원 출력\n",
    "print(arr_list1.shape)  # 배열의 형태 ex)3,5\n",
    "print(arr_list1.size)\n",
    "print(arr_list1.dtype.name, arr_list1.dtype.itemsize)\n",
    "print()\n",
    "print(arr_list2.ndim)    # 차원 출력\n",
    "print(arr_list2.shape)  # 배열의 형태 ex)3,5\n",
    "print(arr_list2.size)\n",
    "print(arr_list2.dtype.name, arr_list2.dtype.itemsize)"
   ]
  },
  {
   "cell_type": "code",
   "execution_count": 6,
   "id": "4660cb4a",
   "metadata": {},
   "outputs": [
    {
     "name": "stdout",
     "output_type": "stream",
     "text": [
      "[[6.23042070e-307 4.67296746e-307 1.69121096e-306 2.33646336e-307]\n",
      " [7.56599807e-307 8.90104239e-307 1.24610383e-306 1.69118108e-306]\n",
      " [8.06632139e-308 1.20160711e-306 1.69119330e-306 1.33511018e-306]]\n",
      "\n",
      "[[0. 0. 0. 0.]\n",
      " [0. 0. 0. 0.]\n",
      " [0. 0. 0. 0.]]\n",
      "\n",
      "[[0 0 0 0]\n",
      " [0 0 0 0]\n",
      " [0 0 0 0]] 4\n",
      "\n",
      "[['' '' '' '']\n",
      " ['' '' '' '']\n",
      " ['' '' '' '']]\n",
      "\n",
      "[[0 0 0 0]\n",
      " [0 0 0 0]\n",
      " [0 0 0 0]] 8\n",
      "\n",
      "[[1. 1. 1.]\n",
      " [1. 1. 1.]]\n",
      "\n",
      "[[0. 0. 0.]\n",
      " [0. 0. 0.]]\n"
     ]
    }
   ],
   "source": [
    "empty_arr = np.empty((3,4))\n",
    "print(empty_arr)\n",
    "print()\n",
    "empty_arr = np.zeros((3,4))\n",
    "print(empty_arr)\n",
    "print()\n",
    "empty_arr = np.zeros((3,4), dtype = 'i')   # 데이터 타입을 int로\n",
    "print(empty_arr, empty_arr.dtype.itemsize)\n",
    "print()\n",
    "empty_arr = np.zeros((3,4), dtype = 'U4')   # 데이터 타입을 문자로\n",
    "print(empty_arr)\n",
    "print()\n",
    "empty_arr = np.zeros((3,4), dtype = 'i8')   # 데이터 타입을 8바이트 int로\n",
    "print(empty_arr, empty_arr.dtype.itemsize)\n",
    "print()\n",
    "\n",
    "# 데이터 초기값을 1로 주면서 배열 생성\n",
    "empty_arr = np.ones((2,3))\n",
    "print(empty_arr)\n",
    "print()\n",
    "empty_arr2 = np.zeros_like(empty_arr)\n",
    "print(empty_arr2)"
   ]
  },
  {
   "cell_type": "code",
   "execution_count": 7,
   "id": "834d9cbe",
   "metadata": {},
   "outputs": [],
   "source": [
    "x1 = np.array([1.0, 2.0, 3.0])\n",
    "y1 = np.array([5.0, 10.0, 15.0])\n",
    "x2 = np.array([[1.0, 2.0],[ 3.0, 4.0]]) \n",
    "y2 = np.array([[5.0,10.0],[15.0,20.0]]) \n",
    "z1 = np.array([-1.0, -2.0])\n",
    "z2 = np.array([[5.0],[10.0],[15.0]])"
   ]
  },
  {
   "cell_type": "code",
   "execution_count": 8,
   "id": "477ae829",
   "metadata": {},
   "outputs": [
    {
     "name": "stdout",
     "output_type": "stream",
     "text": [
      "[ 6. 12. 18.]\n",
      "\n",
      "[[ 5. 20.]\n",
      " [45. 80.]]\n",
      "\n",
      "[[ -5.  -5.]\n",
      " [-15. -10.]]\n",
      "\n",
      "[[ 4.  3.]\n",
      " [ 9.  8.]\n",
      " [14. 13.]]\n",
      "\n",
      "[1. 4. 9.]\n",
      "\n",
      "[ True  True False]\n",
      "\n",
      "[[1. 2.]\n",
      " [3. 4.]]\n",
      "[[ 5. 10.]\n",
      " [15. 20.]]\n"
     ]
    },
    {
     "data": {
      "text/plain": [
       "array([[1., 2.],\n",
       "       [3., 4.]])"
      ]
     },
     "execution_count": 8,
     "metadata": {},
     "output_type": "execute_result"
    }
   ],
   "source": [
    "# array basic 연산\n",
    "print(x1+y1)\n",
    "print()\n",
    "print(x2*y2)\n",
    "print()\n",
    "print(y2/z1)\n",
    "print()\n",
    "# array broadcast 연산\n",
    "print(z1+z2)\n",
    "print()\n",
    "print(x1 ** 2)\n",
    "print()\n",
    "print(x1 < 3)\n",
    "\n",
    "# shape\n",
    "# x2 = np.array([[1.0, 2.0],[ 3.0, 4.0]])\n",
    "print()\n",
    "x2.reshape(x2.size)\n",
    "print(x2)\n",
    "y2.flatten() # 1차원으로 평탄화\n",
    "print(y2)\n",
    "\n",
    "x2.flatten().reshape(2,2)"
   ]
  },
  {
   "cell_type": "code",
   "execution_count": 9,
   "id": "463e3709",
   "metadata": {},
   "outputs": [
    {
     "name": "stdout",
     "output_type": "stream",
     "text": [
      "[ 0  1  4  9 16 25 36 49 64 81]\n",
      "4\n",
      "[ 4  9 16]\n",
      "[ 0  4 16 36 64]\n",
      "[  0   1  -4   9 -16  25  36  49  64  81]\n",
      "[ 81  64  49  36  25 -16   9  -4   1   0]\n",
      "0 1 -4 9 -16 25 36 49 64 81 "
     ]
    }
   ],
   "source": [
    "# indexing, slicing, iterating\n",
    "a = np.arange(10) ** 2\n",
    "print(a)\n",
    "\n",
    "# 3번째 자료 출력\n",
    "print(a[2])\n",
    "\n",
    "# 4부터 16까지 출력\n",
    "print(a[2:5])\n",
    "\n",
    "# 처음부터 끝까지 2씩 건너뛰어 출력\n",
    "print(a[::2])\n",
    "\n",
    "a[0:6:2] = -a[0:6:2]\n",
    "print(a)\n",
    "\n",
    "# 뒤에서부터 출력\n",
    "print(a[::-1])\n",
    "\n",
    "# for를 활용하여 값을 출력\n",
    "for i in a:\n",
    "    print(i, end = ' ')"
   ]
  },
  {
   "cell_type": "code",
   "execution_count": 10,
   "id": "02662172",
   "metadata": {},
   "outputs": [
    {
     "name": "stdout",
     "output_type": "stream",
     "text": [
      "[[ 1  2  3  4  5]\n",
      " [ 6  7  8  9 10]\n",
      " [11 12 13 14 15]\n",
      " [16 17 18 19 20]]\n",
      "7\n",
      "[2 7]\n",
      "20\n",
      "[ 6  7  8  9 10]\n",
      "[ 3  8 13 18]\n"
     ]
    }
   ],
   "source": [
    "# 배열을 검색\n",
    "a = np.arange(1,21).reshape(4,5)\n",
    "print(a)\n",
    "\n",
    "#배열의 각 원소 검색 : array[행,열]\n",
    "print(a[1,1])\n",
    "\n",
    "print(a[:2,1])\n",
    "\n",
    "# 마지막행과 마지막 열의 자료 출력\n",
    "print(a[-1,-1])\n",
    "\n",
    "# 2행의 모든 자료 검색\n",
    "print(a[1,:])\n",
    "# 3열의 모든 자료 검색\n",
    "print(a[:,2])"
   ]
  },
  {
   "cell_type": "code",
   "execution_count": 11,
   "id": "f6430c08",
   "metadata": {},
   "outputs": [
    {
     "name": "stdout",
     "output_type": "stream",
     "text": [
      "[[2.12199579e-314 6.36598737e-314]\n",
      " [1.06099790e-313 1.48539705e-313]\n",
      " [1.90979621e-313 2.33419537e-313]]\n",
      "[[0 1]\n",
      " [2 3]\n",
      " [4 5]]\n"
     ]
    }
   ],
   "source": [
    "# np.ndarray(shape, buffer)\n",
    "a = np.ndarray((3,2), buffer=np.arange(12))  # dtype = float\n",
    "print(a)\n",
    "a = np.ndarray((3,2), buffer=np.arange(6), dtype = int)\n",
    "print(a)"
   ]
  },
  {
   "cell_type": "code",
   "execution_count": 68,
   "id": "81881671",
   "metadata": {},
   "outputs": [
    {
     "name": "stdout",
     "output_type": "stream",
     "text": [
      "6\n",
      "[2 0 1]\n",
      "[1 2 0]\n",
      "\n",
      "26\n",
      "[[2 2 0]\n",
      " [2 1 2]\n",
      " [2 1 2]]\n",
      "[[2 2 0]\n",
      " [2 2 2]\n",
      " [2 0 2]]\n",
      "[[2 1 1]\n",
      " [1 1 1]\n",
      " [1 2 2]]\n",
      "---------------------\n",
      "[[[8 8 8]\n",
      "  [8 8 8]\n",
      "  [8 8 8]]]\n"
     ]
    }
   ],
   "source": [
    "a = np.array([[1,8,2],\n",
    "              [3,2,5],\n",
    "              [9,5,3]])\n",
    "#            1) 1 8 2\n",
    "#            2) 3 2 5\n",
    "#            3) 9 5 3\n",
    "print(np.argmax(a))\n",
    "print(np.argmax(a,axis = 0))\n",
    "print(np.argmax(a,axis = 1))\n",
    "print()\n",
    "b = np.array([[[1,2,333],[4,55,6],[7,88,9]],\n",
    "              [[11,22,3],[44,555,66],[77,888,99]],\n",
    "              [[111,222,33],[444,5,666],[777,88,999]]])\n",
    "\n",
    "print(np.argmax(b))\n",
    "print(np.argmax(b,axis = 0))\n",
    "print(np.argmax(b,axis = 1))\n",
    "print(np.argmax(b,axis = 2))\n",
    "\n",
    "c = np.array([[[[1,2,3],[4,5,6],[7,8,9]],[[11,22,33],[44,55,66],[77,88,99]],[[111,222,333],[444,555,666],[777,888,999]],\n",
    "              [[10,20,30],[40,50,60],[70,80,90]],[[110,220,330],[440,550,660],[770,880,990]],[[1110,2220,3330],[4440,5550,6660],[7770,8880,9990]],\n",
    "              [[100,200,300],[400,500,600],[700,800,900]],[[1100,2200,3300],[4400,5500,6600],[7700,8800,9900]],[[11100,22200,33300],[44400,55500,66600],[77700,88800,99900]]]])\n",
    "\n",
    "# print(np.argmax(c))\n",
    "# print(np.argmax(c,axis = 0))\n",
    "print(\"---------------------\")\n",
    "print(np.argmax(c,axis = 1))\n",
    "# print(\"---------------------\")\n",
    "# print(np.argmax(c,axis = 2))\n",
    "# print(\"---------------------\")\n",
    "# print(np.argmax(c,axis = 3))"
   ]
  },
  {
   "cell_type": "code",
   "execution_count": 13,
   "id": "30ea9502",
   "metadata": {},
   "outputs": [
    {
     "name": "stdout",
     "output_type": "stream",
     "text": [
      "26\n",
      "-24\n",
      "23\n",
      "4.8076923076923075\n",
      "10.734628476137871\n",
      "115.23224852071006\n",
      "\n",
      "5.0 0.0 23.0\n"
     ]
    }
   ],
   "source": [
    "x = np.array([18, 5,10,23,19, -8, 10, 0, 0, 5, 2, 15, 8,\n",
    "              2, 5, 4, 15, -1, 4, -7, -24, 7, 9, -6, 23, -13])\n",
    "print(len(x))\n",
    "print(x.min())\n",
    "print(x.max())\n",
    "print(x.mean())\n",
    "print(x.std())\n",
    "print(x.var())\n",
    "print()\n",
    "print(np.median(x), np.percentile(x,25), np.percentile(x,100))"
   ]
  },
  {
   "cell_type": "code",
   "execution_count": 22,
   "id": "c7ead543",
   "metadata": {},
   "outputs": [],
   "source": [
    "# 난수 생성\n",
    "# rand : 0부터 1사이의 정규분포로 난수 생성\n",
    "# randn : 기대값이 0이고 표준편자가 1인 가우시안 표준 정규분포를 따르는 난수 생성"
   ]
  },
  {
   "cell_type": "code",
   "execution_count": 15,
   "id": "cc692875",
   "metadata": {},
   "outputs": [
    {
     "name": "stdout",
     "output_type": "stream",
     "text": [
      "[[19 14 10 11 19]\n",
      " [10 11 18 19 10]]\n"
     ]
    }
   ],
   "source": [
    "np.random.seed(10)      #난수 초기화 시드가 고정이면 난수 고정\n",
    "\n",
    "print(np.random.randint(10,20,size=(2,5)))"
   ]
  },
  {
   "cell_type": "code",
   "execution_count": 16,
   "id": "7c5df1bc",
   "metadata": {},
   "outputs": [
    {
     "name": "stdout",
     "output_type": "stream",
     "text": [
      "[0 1 2 3 4 5 6 7 8 9]\n",
      "[1 5 2 9 7 0 3 4 6 8]\n"
     ]
    }
   ],
   "source": [
    "x = np.arange(10) # 0~9까지의 정수 발생, 1차원 배열\n",
    "print(x)\n",
    "\n",
    "# 자료의 위치를 바꿈\n",
    "\n",
    "np.random.shuffle(x)\n",
    "print(x)"
   ]
  },
  {
   "cell_type": "code",
   "execution_count": 66,
   "id": "214fe481",
   "metadata": {},
   "outputs": [
    {
     "name": "stdout",
     "output_type": "stream",
     "text": [
      "[3 1 3]\n",
      "[2 1 4 3 0]\n",
      "[3 2 2 2 1 2 0 2 0 1]\n",
      "[0 0 0 0 0 0 0 0 0 0]\n"
     ]
    }
   ],
   "source": [
    "# 샘플링 함수 : choice 함수\n",
    "# np.random.choice(data, size = None, replace = True, p = None)\n",
    "print(np.random.choice(5,3))  # data = range(5), size = 3, 중복O\n",
    "print(np.random.choice(5,5,replace = False))    # data = range(5), size = 5, 중복X\n",
    "print(np.random.choice(5,10, p=[0.1,0.2,0.5,0.2,0]))    # 4는뽑지않고\n",
    "                                                        #나머지 숫자의 확률을조정\n",
    "print(np.random.choice(5,10, p=[1,0,0,0,0]))            # 0만 뽑겟다"
   ]
  },
  {
   "cell_type": "code",
   "execution_count": 90,
   "id": "489caf19",
   "metadata": {},
   "outputs": [
    {
     "name": "stdout",
     "output_type": "stream",
     "text": [
      "[ 3  6  9 12 15 18]\n",
      "[ 1  5  9 13 17]\n",
      "[9]\n"
     ]
    }
   ],
   "source": [
    "# 1부터 20까지의 수를 가진 배열 생성\n",
    "x = np.arange(1,21)\n",
    "# 3의배수\n",
    "print(x[x%3 ==0])\n",
    "# 4로나누면 나머지가 1인수\n",
    "print(x[x%4==1])\n",
    "# 3으로 나누어지고 4로나누면 나머지가 1인 수\n",
    "print(x[(x%3==0) & (x%4==1)])"
   ]
  },
  {
   "cell_type": "code",
   "execution_count": null,
   "id": "8c726497",
   "metadata": {},
   "outputs": [],
   "source": []
  }
 ],
 "metadata": {
  "kernelspec": {
   "display_name": "Python 3 (ipykernel)",
   "language": "python",
   "name": "python3"
  },
  "language_info": {
   "codemirror_mode": {
    "name": "ipython",
    "version": 3
   },
   "file_extension": ".py",
   "mimetype": "text/x-python",
   "name": "python",
   "nbconvert_exporter": "python",
   "pygments_lexer": "ipython3",
   "version": "3.9.12"
  }
 },
 "nbformat": 4,
 "nbformat_minor": 5
}
