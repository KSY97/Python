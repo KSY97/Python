{
 "cells": [
  {
   "cell_type": "code",
   "execution_count": 1,
   "id": "ad76aa69",
   "metadata": {},
   "outputs": [],
   "source": [
    "# 가비지 컬렉터 : 더이상 사용하지 않는 클래스 변수를 제거\n",
    "# __del__(self):\n",
    "x = 0\n",
    "y = 0\n",
    "class Test:\n",
    "    def __init__(self, name):\n",
    "        global x\n",
    "        x += 1\n",
    "        self.name = name\n",
    "        print(\"{}번째 생성\".format(x))\n",
    "    def __del__(self):\n",
    "        global y\n",
    "        y += 1\n",
    "        print(\"{}파괴\".format(y))"
   ]
  },
  {
   "cell_type": "code",
   "execution_count": 4,
   "id": "a4fe9512",
   "metadata": {},
   "outputs": [
    {
     "name": "stdout",
     "output_type": "stream",
     "text": [
      "3번째 생성\n",
      "4번째 생성\n",
      "3파괴\n",
      "4파괴\n"
     ]
    }
   ],
   "source": [
    "a = Test('a')\n",
    "b = Test('b')\n",
    "del a\n",
    "del b"
   ]
  },
  {
   "cell_type": "code",
   "execution_count": 18,
   "id": "03927861",
   "metadata": {},
   "outputs": [
    {
     "name": "stdout",
     "output_type": "stream",
     "text": [
      "90\n",
      "100\n",
      "100\n",
      "50\n"
     ]
    }
   ],
   "source": [
    "# 프라이빗 변수와 게터/ 세터\n",
    "# 프라이빗 변수 : 외부에서 클래스 인스턴스의 값을 수정하지 못하도록 함\n",
    "# 데코레이터를 사용할수도있지만 get_,set_로 사용해도 무방\n",
    "class Test1:\n",
    "    def __init__(self, score):\n",
    "        self.__score = score\n",
    "    \n",
    "    @property                    # getter 데코레이터\n",
    "    def score(self):\n",
    "        return self.__score\n",
    "    \n",
    "    @score.setter                # setter 데코레이터\n",
    "    def score(self, value):\n",
    "        self.__score = value\n",
    "        \n",
    "a = Test1(90)\n",
    "print(a.score)\n",
    "\n",
    "a.score = 100          # 다른 변수로 취급 했던게 데코레이터 사용후 바뀜\n",
    "print(a.score)\n",
    "\n",
    "print(a.score)\n",
    "\n",
    "a.score = 50\n",
    "print(a.score)"
   ]
  },
  {
   "cell_type": "code",
   "execution_count": null,
   "id": "a4879921",
   "metadata": {},
   "outputs": [],
   "source": [
    "# 상속"
   ]
  }
 ],
 "metadata": {
  "kernelspec": {
   "display_name": "Python 3 (ipykernel)",
   "language": "python",
   "name": "python3"
  },
  "language_info": {
   "codemirror_mode": {
    "name": "ipython",
    "version": 3
   },
   "file_extension": ".py",
   "mimetype": "text/x-python",
   "name": "python",
   "nbconvert_exporter": "python",
   "pygments_lexer": "ipython3",
   "version": "3.9.12"
  }
 },
 "nbformat": 4,
 "nbformat_minor": 5
}
